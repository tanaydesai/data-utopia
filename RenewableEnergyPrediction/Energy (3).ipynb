{
  "nbformat": 4,
  "nbformat_minor": 0,
  "metadata": {
    "colab": {
      "name": "Energy.ipynb",
      "provenance": [],
      "collapsed_sections": [
        "VyFJdgXyJ-42",
        "TpvItvpRgpZi",
        "3dNGcnjXBYup",
        "CCKzCr05KAvJ",
        "c5iRCNdZjWeM",
        "Uq9cP_iejnya",
        "CLvsQmwHjwJg"
      ]
    },
    "kernelspec": {
      "name": "python3",
      "display_name": "Python 3"
    },
    "language_info": {
      "name": "python"
    }
  },
  "cells": [
    {
      "cell_type": "markdown",
      "source": [
        "# Importing Modules"
      ],
      "metadata": {
        "id": "VyFJdgXyJ-42"
      }
    },
    {
      "cell_type": "code",
      "execution_count": 33,
      "metadata": {
        "id": "boFBSoKNJ3I-"
      },
      "outputs": [],
      "source": [
        "import math\n",
        "import pandas as pd\n",
        "import numpy as np\n",
        "import matplotlib.pyplot as plt\n",
        "\n",
        "#Model\n",
        "from sklearn.tree import DecisionTreeRegressor\n",
        "from sklearn.linear_model import LinearRegression\n",
        "from xgboost.sklearn import XGBRegressor\n",
        "from sklearn.svm import SVR\n",
        "\n",
        "#Processing\n",
        "from sklearn.preprocessing import MinMaxScaler\n",
        "from sklearn import metrics"
      ]
    },
    {
      "cell_type": "markdown",
      "source": [
        "# Data Processing"
      ],
      "metadata": {
        "id": "TpvItvpRgpZi"
      }
    },
    {
      "cell_type": "code",
      "source": [
        "#Electricity Consumption\n",
        "data = pd.read_csv(\"elec-mix-bar.csv\",index_col=False)[6280:6317]\n",
        "data.head(20)\n",
        "#Electricity Production\n",
        "data2 = pd.read_csv(\"elec-fossil-nuclear-renewables.csv\",index_col=False)[6280:6317]\n",
        "data2.tail(20)"
      ],
      "metadata": {
        "id": "Bo6u6YbYKA81",
        "colab": {
          "base_uri": "https://localhost:8080/",
          "height": 676
        },
        "outputId": "7c8b5d30-b374-435f-fd01-84f3f66b265f"
      },
      "execution_count": 34,
      "outputs": [
        {
          "output_type": "execute_result",
          "data": {
            "text/plain": [
              "     Entity      Code  Year  Electricity from fossil fuels (TWh)  \\\n",
              "6297  World  OWID_WRL  2002                             10249.42   \n",
              "6298  World  OWID_WRL  2003                             10805.79   \n",
              "6299  World  OWID_WRL  2004                             11255.24   \n",
              "6300  World  OWID_WRL  2005                             11768.76   \n",
              "6301  World  OWID_WRL  2006                             12295.70   \n",
              "6302  World  OWID_WRL  2007                             13128.37   \n",
              "6303  World  OWID_WRL  2008                             13182.88   \n",
              "6304  World  OWID_WRL  2009                             13036.77   \n",
              "6305  World  OWID_WRL  2010                             14005.49   \n",
              "6306  World  OWID_WRL  2011                             14655.33   \n",
              "6307  World  OWID_WRL  2012                             14961.24   \n",
              "6308  World  OWID_WRL  2013                             15278.14   \n",
              "6309  World  OWID_WRL  2014                             15521.01   \n",
              "6310  World  OWID_WRL  2015                             15541.60   \n",
              "6311  World  OWID_WRL  2016                             15794.53   \n",
              "6312  World  OWID_WRL  2017                             16090.55   \n",
              "6313  World  OWID_WRL  2018                             16573.16   \n",
              "6314  World  OWID_WRL  2019                             16544.52   \n",
              "6315  World  OWID_WRL  2020                             16024.75   \n",
              "6316  World  OWID_WRL  2021                             16992.07   \n",
              "\n",
              "      Electricity from nuclear (TWh)  Electricity from renewables (TWh)  \n",
              "6297                         2600.35                            2882.15  \n",
              "6298                         2576.19                            2910.59  \n",
              "6299                         2681.18                            3142.96  \n",
              "6300                         2685.38                            3291.33  \n",
              "6301                         2719.87                            3440.17  \n",
              "6302                         2665.34                            3548.53  \n",
              "6303                         2654.51                            3799.00  \n",
              "6304                         2617.32                            3891.98  \n",
              "6305                         2686.63                            4195.52  \n",
              "6306                         2576.20                            4408.04  \n",
              "6307                         2403.18                            4725.22  \n",
              "6308                         2419.42                            5035.94  \n",
              "6309                         2468.28                            5308.65  \n",
              "6310                         2501.50                            5521.27  \n",
              "6311                         2533.12                            5869.11  \n",
              "6312                         2548.19                            6238.26  \n",
              "6313                         2620.13                            6660.83  \n",
              "6314                         2723.79                            7022.66  \n",
              "6315                         2635.81                            7446.28  \n",
              "6316                         2735.52                            7792.93  "
            ],
            "text/html": [
              "\n",
              "  <div id=\"df-371a802b-a090-44cb-8d81-d415ff90513f\">\n",
              "    <div class=\"colab-df-container\">\n",
              "      <div>\n",
              "<style scoped>\n",
              "    .dataframe tbody tr th:only-of-type {\n",
              "        vertical-align: middle;\n",
              "    }\n",
              "\n",
              "    .dataframe tbody tr th {\n",
              "        vertical-align: top;\n",
              "    }\n",
              "\n",
              "    .dataframe thead th {\n",
              "        text-align: right;\n",
              "    }\n",
              "</style>\n",
              "<table border=\"1\" class=\"dataframe\">\n",
              "  <thead>\n",
              "    <tr style=\"text-align: right;\">\n",
              "      <th></th>\n",
              "      <th>Entity</th>\n",
              "      <th>Code</th>\n",
              "      <th>Year</th>\n",
              "      <th>Electricity from fossil fuels (TWh)</th>\n",
              "      <th>Electricity from nuclear (TWh)</th>\n",
              "      <th>Electricity from renewables (TWh)</th>\n",
              "    </tr>\n",
              "  </thead>\n",
              "  <tbody>\n",
              "    <tr>\n",
              "      <th>6297</th>\n",
              "      <td>World</td>\n",
              "      <td>OWID_WRL</td>\n",
              "      <td>2002</td>\n",
              "      <td>10249.42</td>\n",
              "      <td>2600.35</td>\n",
              "      <td>2882.15</td>\n",
              "    </tr>\n",
              "    <tr>\n",
              "      <th>6298</th>\n",
              "      <td>World</td>\n",
              "      <td>OWID_WRL</td>\n",
              "      <td>2003</td>\n",
              "      <td>10805.79</td>\n",
              "      <td>2576.19</td>\n",
              "      <td>2910.59</td>\n",
              "    </tr>\n",
              "    <tr>\n",
              "      <th>6299</th>\n",
              "      <td>World</td>\n",
              "      <td>OWID_WRL</td>\n",
              "      <td>2004</td>\n",
              "      <td>11255.24</td>\n",
              "      <td>2681.18</td>\n",
              "      <td>3142.96</td>\n",
              "    </tr>\n",
              "    <tr>\n",
              "      <th>6300</th>\n",
              "      <td>World</td>\n",
              "      <td>OWID_WRL</td>\n",
              "      <td>2005</td>\n",
              "      <td>11768.76</td>\n",
              "      <td>2685.38</td>\n",
              "      <td>3291.33</td>\n",
              "    </tr>\n",
              "    <tr>\n",
              "      <th>6301</th>\n",
              "      <td>World</td>\n",
              "      <td>OWID_WRL</td>\n",
              "      <td>2006</td>\n",
              "      <td>12295.70</td>\n",
              "      <td>2719.87</td>\n",
              "      <td>3440.17</td>\n",
              "    </tr>\n",
              "    <tr>\n",
              "      <th>6302</th>\n",
              "      <td>World</td>\n",
              "      <td>OWID_WRL</td>\n",
              "      <td>2007</td>\n",
              "      <td>13128.37</td>\n",
              "      <td>2665.34</td>\n",
              "      <td>3548.53</td>\n",
              "    </tr>\n",
              "    <tr>\n",
              "      <th>6303</th>\n",
              "      <td>World</td>\n",
              "      <td>OWID_WRL</td>\n",
              "      <td>2008</td>\n",
              "      <td>13182.88</td>\n",
              "      <td>2654.51</td>\n",
              "      <td>3799.00</td>\n",
              "    </tr>\n",
              "    <tr>\n",
              "      <th>6304</th>\n",
              "      <td>World</td>\n",
              "      <td>OWID_WRL</td>\n",
              "      <td>2009</td>\n",
              "      <td>13036.77</td>\n",
              "      <td>2617.32</td>\n",
              "      <td>3891.98</td>\n",
              "    </tr>\n",
              "    <tr>\n",
              "      <th>6305</th>\n",
              "      <td>World</td>\n",
              "      <td>OWID_WRL</td>\n",
              "      <td>2010</td>\n",
              "      <td>14005.49</td>\n",
              "      <td>2686.63</td>\n",
              "      <td>4195.52</td>\n",
              "    </tr>\n",
              "    <tr>\n",
              "      <th>6306</th>\n",
              "      <td>World</td>\n",
              "      <td>OWID_WRL</td>\n",
              "      <td>2011</td>\n",
              "      <td>14655.33</td>\n",
              "      <td>2576.20</td>\n",
              "      <td>4408.04</td>\n",
              "    </tr>\n",
              "    <tr>\n",
              "      <th>6307</th>\n",
              "      <td>World</td>\n",
              "      <td>OWID_WRL</td>\n",
              "      <td>2012</td>\n",
              "      <td>14961.24</td>\n",
              "      <td>2403.18</td>\n",
              "      <td>4725.22</td>\n",
              "    </tr>\n",
              "    <tr>\n",
              "      <th>6308</th>\n",
              "      <td>World</td>\n",
              "      <td>OWID_WRL</td>\n",
              "      <td>2013</td>\n",
              "      <td>15278.14</td>\n",
              "      <td>2419.42</td>\n",
              "      <td>5035.94</td>\n",
              "    </tr>\n",
              "    <tr>\n",
              "      <th>6309</th>\n",
              "      <td>World</td>\n",
              "      <td>OWID_WRL</td>\n",
              "      <td>2014</td>\n",
              "      <td>15521.01</td>\n",
              "      <td>2468.28</td>\n",
              "      <td>5308.65</td>\n",
              "    </tr>\n",
              "    <tr>\n",
              "      <th>6310</th>\n",
              "      <td>World</td>\n",
              "      <td>OWID_WRL</td>\n",
              "      <td>2015</td>\n",
              "      <td>15541.60</td>\n",
              "      <td>2501.50</td>\n",
              "      <td>5521.27</td>\n",
              "    </tr>\n",
              "    <tr>\n",
              "      <th>6311</th>\n",
              "      <td>World</td>\n",
              "      <td>OWID_WRL</td>\n",
              "      <td>2016</td>\n",
              "      <td>15794.53</td>\n",
              "      <td>2533.12</td>\n",
              "      <td>5869.11</td>\n",
              "    </tr>\n",
              "    <tr>\n",
              "      <th>6312</th>\n",
              "      <td>World</td>\n",
              "      <td>OWID_WRL</td>\n",
              "      <td>2017</td>\n",
              "      <td>16090.55</td>\n",
              "      <td>2548.19</td>\n",
              "      <td>6238.26</td>\n",
              "    </tr>\n",
              "    <tr>\n",
              "      <th>6313</th>\n",
              "      <td>World</td>\n",
              "      <td>OWID_WRL</td>\n",
              "      <td>2018</td>\n",
              "      <td>16573.16</td>\n",
              "      <td>2620.13</td>\n",
              "      <td>6660.83</td>\n",
              "    </tr>\n",
              "    <tr>\n",
              "      <th>6314</th>\n",
              "      <td>World</td>\n",
              "      <td>OWID_WRL</td>\n",
              "      <td>2019</td>\n",
              "      <td>16544.52</td>\n",
              "      <td>2723.79</td>\n",
              "      <td>7022.66</td>\n",
              "    </tr>\n",
              "    <tr>\n",
              "      <th>6315</th>\n",
              "      <td>World</td>\n",
              "      <td>OWID_WRL</td>\n",
              "      <td>2020</td>\n",
              "      <td>16024.75</td>\n",
              "      <td>2635.81</td>\n",
              "      <td>7446.28</td>\n",
              "    </tr>\n",
              "    <tr>\n",
              "      <th>6316</th>\n",
              "      <td>World</td>\n",
              "      <td>OWID_WRL</td>\n",
              "      <td>2021</td>\n",
              "      <td>16992.07</td>\n",
              "      <td>2735.52</td>\n",
              "      <td>7792.93</td>\n",
              "    </tr>\n",
              "  </tbody>\n",
              "</table>\n",
              "</div>\n",
              "      <button class=\"colab-df-convert\" onclick=\"convertToInteractive('df-371a802b-a090-44cb-8d81-d415ff90513f')\"\n",
              "              title=\"Convert this dataframe to an interactive table.\"\n",
              "              style=\"display:none;\">\n",
              "        \n",
              "  <svg xmlns=\"http://www.w3.org/2000/svg\" height=\"24px\"viewBox=\"0 0 24 24\"\n",
              "       width=\"24px\">\n",
              "    <path d=\"M0 0h24v24H0V0z\" fill=\"none\"/>\n",
              "    <path d=\"M18.56 5.44l.94 2.06.94-2.06 2.06-.94-2.06-.94-.94-2.06-.94 2.06-2.06.94zm-11 1L8.5 8.5l.94-2.06 2.06-.94-2.06-.94L8.5 2.5l-.94 2.06-2.06.94zm10 10l.94 2.06.94-2.06 2.06-.94-2.06-.94-.94-2.06-.94 2.06-2.06.94z\"/><path d=\"M17.41 7.96l-1.37-1.37c-.4-.4-.92-.59-1.43-.59-.52 0-1.04.2-1.43.59L10.3 9.45l-7.72 7.72c-.78.78-.78 2.05 0 2.83L4 21.41c.39.39.9.59 1.41.59.51 0 1.02-.2 1.41-.59l7.78-7.78 2.81-2.81c.8-.78.8-2.07 0-2.86zM5.41 20L4 18.59l7.72-7.72 1.47 1.35L5.41 20z\"/>\n",
              "  </svg>\n",
              "      </button>\n",
              "      \n",
              "  <style>\n",
              "    .colab-df-container {\n",
              "      display:flex;\n",
              "      flex-wrap:wrap;\n",
              "      gap: 12px;\n",
              "    }\n",
              "\n",
              "    .colab-df-convert {\n",
              "      background-color: #E8F0FE;\n",
              "      border: none;\n",
              "      border-radius: 50%;\n",
              "      cursor: pointer;\n",
              "      display: none;\n",
              "      fill: #1967D2;\n",
              "      height: 32px;\n",
              "      padding: 0 0 0 0;\n",
              "      width: 32px;\n",
              "    }\n",
              "\n",
              "    .colab-df-convert:hover {\n",
              "      background-color: #E2EBFA;\n",
              "      box-shadow: 0px 1px 2px rgba(60, 64, 67, 0.3), 0px 1px 3px 1px rgba(60, 64, 67, 0.15);\n",
              "      fill: #174EA6;\n",
              "    }\n",
              "\n",
              "    [theme=dark] .colab-df-convert {\n",
              "      background-color: #3B4455;\n",
              "      fill: #D2E3FC;\n",
              "    }\n",
              "\n",
              "    [theme=dark] .colab-df-convert:hover {\n",
              "      background-color: #434B5C;\n",
              "      box-shadow: 0px 1px 3px 1px rgba(0, 0, 0, 0.15);\n",
              "      filter: drop-shadow(0px 1px 2px rgba(0, 0, 0, 0.3));\n",
              "      fill: #FFFFFF;\n",
              "    }\n",
              "  </style>\n",
              "\n",
              "      <script>\n",
              "        const buttonEl =\n",
              "          document.querySelector('#df-371a802b-a090-44cb-8d81-d415ff90513f button.colab-df-convert');\n",
              "        buttonEl.style.display =\n",
              "          google.colab.kernel.accessAllowed ? 'block' : 'none';\n",
              "\n",
              "        async function convertToInteractive(key) {\n",
              "          const element = document.querySelector('#df-371a802b-a090-44cb-8d81-d415ff90513f');\n",
              "          const dataTable =\n",
              "            await google.colab.kernel.invokeFunction('convertToInteractive',\n",
              "                                                     [key], {});\n",
              "          if (!dataTable) return;\n",
              "\n",
              "          const docLinkHtml = 'Like what you see? Visit the ' +\n",
              "            '<a target=\"_blank\" href=https://colab.research.google.com/notebooks/data_table.ipynb>data table notebook</a>'\n",
              "            + ' to learn more about interactive tables.';\n",
              "          element.innerHTML = '';\n",
              "          dataTable['output_type'] = 'display_data';\n",
              "          await google.colab.output.renderOutput(dataTable, element);\n",
              "          const docLink = document.createElement('div');\n",
              "          docLink.innerHTML = docLinkHtml;\n",
              "          element.appendChild(docLink);\n",
              "        }\n",
              "      </script>\n",
              "    </div>\n",
              "  </div>\n",
              "  "
            ]
          },
          "metadata": {},
          "execution_count": 34
        }
      ]
    },
    {
      "cell_type": "code",
      "source": [
        "#Creating Total Electricity  Consumption in Twh and KWh\n",
        "data[\"Total Consumption (TWh)\"] = (data[\"Electricity from fossil fuels (TWh)\"] +\tdata[\"Electricity from nuclear (TWh)\"] + data[\"Electricity from renewables (TWh)\"])\n",
        "data[\"Total Consumption (kWh)\"] = (data[\"Electricity from fossil fuels (TWh)\"] +\tdata[\"Electricity from nuclear (TWh)\"] + data[\"Electricity from renewables (TWh)\"]) * 1000000000\n",
        "data[\"% of Renewables\"] = (((data[\"Electricity from nuclear (TWh)\"] + data[\"Electricity from renewables (TWh)\"]) * 1000000000) / data[\"Total Consumption (kWh)\"] ) * 100\n",
        "data.drop(columns=[\"Code\"],inplace=True)\n",
        "data.reset_index(inplace=True,drop=True)\n",
        "data.head()\n",
        "\n",
        "#Creating Total Electricity Production in Twh for only Renewables\n",
        "data2[\"Total Renewable Production (TWh)\"] = (data2[\"Electricity from nuclear (TWh)\"] + data2[\"Electricity from renewables (TWh)\"])\n",
        "data2.drop(columns=[\"Code\"],inplace=True)\n",
        "data2.reset_index(inplace=True,drop=True)"
      ],
      "metadata": {
        "id": "hmaHF07P1cuv"
      },
      "execution_count": 35,
      "outputs": []
    },
    {
      "cell_type": "code",
      "source": [
        "data2.tail()"
      ],
      "metadata": {
        "colab": {
          "base_uri": "https://localhost:8080/",
          "height": 267
        },
        "id": "-sEo7_4h3DR5",
        "outputId": "48cc41ae-74fd-496a-a616-51bf20f575c6"
      },
      "execution_count": 36,
      "outputs": [
        {
          "output_type": "execute_result",
          "data": {
            "text/plain": [
              "   Entity  Year  Electricity from fossil fuels (TWh)  \\\n",
              "32  World  2017                             16090.55   \n",
              "33  World  2018                             16573.16   \n",
              "34  World  2019                             16544.52   \n",
              "35  World  2020                             16024.75   \n",
              "36  World  2021                             16992.07   \n",
              "\n",
              "    Electricity from nuclear (TWh)  Electricity from renewables (TWh)  \\\n",
              "32                         2548.19                            6238.26   \n",
              "33                         2620.13                            6660.83   \n",
              "34                         2723.79                            7022.66   \n",
              "35                         2635.81                            7446.28   \n",
              "36                         2735.52                            7792.93   \n",
              "\n",
              "    Total Renewable Production (TWh)  \n",
              "32                           8786.45  \n",
              "33                           9280.96  \n",
              "34                           9746.45  \n",
              "35                          10082.09  \n",
              "36                          10528.45  "
            ],
            "text/html": [
              "\n",
              "  <div id=\"df-a459b580-42f0-4af5-be34-f3f26eceffc1\">\n",
              "    <div class=\"colab-df-container\">\n",
              "      <div>\n",
              "<style scoped>\n",
              "    .dataframe tbody tr th:only-of-type {\n",
              "        vertical-align: middle;\n",
              "    }\n",
              "\n",
              "    .dataframe tbody tr th {\n",
              "        vertical-align: top;\n",
              "    }\n",
              "\n",
              "    .dataframe thead th {\n",
              "        text-align: right;\n",
              "    }\n",
              "</style>\n",
              "<table border=\"1\" class=\"dataframe\">\n",
              "  <thead>\n",
              "    <tr style=\"text-align: right;\">\n",
              "      <th></th>\n",
              "      <th>Entity</th>\n",
              "      <th>Year</th>\n",
              "      <th>Electricity from fossil fuels (TWh)</th>\n",
              "      <th>Electricity from nuclear (TWh)</th>\n",
              "      <th>Electricity from renewables (TWh)</th>\n",
              "      <th>Total Renewable Production (TWh)</th>\n",
              "    </tr>\n",
              "  </thead>\n",
              "  <tbody>\n",
              "    <tr>\n",
              "      <th>32</th>\n",
              "      <td>World</td>\n",
              "      <td>2017</td>\n",
              "      <td>16090.55</td>\n",
              "      <td>2548.19</td>\n",
              "      <td>6238.26</td>\n",
              "      <td>8786.45</td>\n",
              "    </tr>\n",
              "    <tr>\n",
              "      <th>33</th>\n",
              "      <td>World</td>\n",
              "      <td>2018</td>\n",
              "      <td>16573.16</td>\n",
              "      <td>2620.13</td>\n",
              "      <td>6660.83</td>\n",
              "      <td>9280.96</td>\n",
              "    </tr>\n",
              "    <tr>\n",
              "      <th>34</th>\n",
              "      <td>World</td>\n",
              "      <td>2019</td>\n",
              "      <td>16544.52</td>\n",
              "      <td>2723.79</td>\n",
              "      <td>7022.66</td>\n",
              "      <td>9746.45</td>\n",
              "    </tr>\n",
              "    <tr>\n",
              "      <th>35</th>\n",
              "      <td>World</td>\n",
              "      <td>2020</td>\n",
              "      <td>16024.75</td>\n",
              "      <td>2635.81</td>\n",
              "      <td>7446.28</td>\n",
              "      <td>10082.09</td>\n",
              "    </tr>\n",
              "    <tr>\n",
              "      <th>36</th>\n",
              "      <td>World</td>\n",
              "      <td>2021</td>\n",
              "      <td>16992.07</td>\n",
              "      <td>2735.52</td>\n",
              "      <td>7792.93</td>\n",
              "      <td>10528.45</td>\n",
              "    </tr>\n",
              "  </tbody>\n",
              "</table>\n",
              "</div>\n",
              "      <button class=\"colab-df-convert\" onclick=\"convertToInteractive('df-a459b580-42f0-4af5-be34-f3f26eceffc1')\"\n",
              "              title=\"Convert this dataframe to an interactive table.\"\n",
              "              style=\"display:none;\">\n",
              "        \n",
              "  <svg xmlns=\"http://www.w3.org/2000/svg\" height=\"24px\"viewBox=\"0 0 24 24\"\n",
              "       width=\"24px\">\n",
              "    <path d=\"M0 0h24v24H0V0z\" fill=\"none\"/>\n",
              "    <path d=\"M18.56 5.44l.94 2.06.94-2.06 2.06-.94-2.06-.94-.94-2.06-.94 2.06-2.06.94zm-11 1L8.5 8.5l.94-2.06 2.06-.94-2.06-.94L8.5 2.5l-.94 2.06-2.06.94zm10 10l.94 2.06.94-2.06 2.06-.94-2.06-.94-.94-2.06-.94 2.06-2.06.94z\"/><path d=\"M17.41 7.96l-1.37-1.37c-.4-.4-.92-.59-1.43-.59-.52 0-1.04.2-1.43.59L10.3 9.45l-7.72 7.72c-.78.78-.78 2.05 0 2.83L4 21.41c.39.39.9.59 1.41.59.51 0 1.02-.2 1.41-.59l7.78-7.78 2.81-2.81c.8-.78.8-2.07 0-2.86zM5.41 20L4 18.59l7.72-7.72 1.47 1.35L5.41 20z\"/>\n",
              "  </svg>\n",
              "      </button>\n",
              "      \n",
              "  <style>\n",
              "    .colab-df-container {\n",
              "      display:flex;\n",
              "      flex-wrap:wrap;\n",
              "      gap: 12px;\n",
              "    }\n",
              "\n",
              "    .colab-df-convert {\n",
              "      background-color: #E8F0FE;\n",
              "      border: none;\n",
              "      border-radius: 50%;\n",
              "      cursor: pointer;\n",
              "      display: none;\n",
              "      fill: #1967D2;\n",
              "      height: 32px;\n",
              "      padding: 0 0 0 0;\n",
              "      width: 32px;\n",
              "    }\n",
              "\n",
              "    .colab-df-convert:hover {\n",
              "      background-color: #E2EBFA;\n",
              "      box-shadow: 0px 1px 2px rgba(60, 64, 67, 0.3), 0px 1px 3px 1px rgba(60, 64, 67, 0.15);\n",
              "      fill: #174EA6;\n",
              "    }\n",
              "\n",
              "    [theme=dark] .colab-df-convert {\n",
              "      background-color: #3B4455;\n",
              "      fill: #D2E3FC;\n",
              "    }\n",
              "\n",
              "    [theme=dark] .colab-df-convert:hover {\n",
              "      background-color: #434B5C;\n",
              "      box-shadow: 0px 1px 3px 1px rgba(0, 0, 0, 0.15);\n",
              "      filter: drop-shadow(0px 1px 2px rgba(0, 0, 0, 0.3));\n",
              "      fill: #FFFFFF;\n",
              "    }\n",
              "  </style>\n",
              "\n",
              "      <script>\n",
              "        const buttonEl =\n",
              "          document.querySelector('#df-a459b580-42f0-4af5-be34-f3f26eceffc1 button.colab-df-convert');\n",
              "        buttonEl.style.display =\n",
              "          google.colab.kernel.accessAllowed ? 'block' : 'none';\n",
              "\n",
              "        async function convertToInteractive(key) {\n",
              "          const element = document.querySelector('#df-a459b580-42f0-4af5-be34-f3f26eceffc1');\n",
              "          const dataTable =\n",
              "            await google.colab.kernel.invokeFunction('convertToInteractive',\n",
              "                                                     [key], {});\n",
              "          if (!dataTable) return;\n",
              "\n",
              "          const docLinkHtml = 'Like what you see? Visit the ' +\n",
              "            '<a target=\"_blank\" href=https://colab.research.google.com/notebooks/data_table.ipynb>data table notebook</a>'\n",
              "            + ' to learn more about interactive tables.';\n",
              "          element.innerHTML = '';\n",
              "          dataTable['output_type'] = 'display_data';\n",
              "          await google.colab.output.renderOutput(dataTable, element);\n",
              "          const docLink = document.createElement('div');\n",
              "          docLink.innerHTML = docLinkHtml;\n",
              "          element.appendChild(docLink);\n",
              "        }\n",
              "      </script>\n",
              "    </div>\n",
              "  </div>\n",
              "  "
            ]
          },
          "metadata": {},
          "execution_count": 36
        }
      ]
    },
    {
      "cell_type": "markdown",
      "source": [
        "# Calculating Solar and Nuclear Metrics"
      ],
      "metadata": {
        "id": "3dNGcnjXBYup"
      }
    },
    {
      "cell_type": "markdown",
      "source": [
        "Number of Solar Panels and Nuclear Power plants needed to satisfy the worlds 2021 Electricity consumption"
      ],
      "metadata": {
        "id": "035dFF6NiI9m"
      }
    },
    {
      "cell_type": "code",
      "source": [
        "TEC = data[\"Total Consumption (kWh)\"].tail(1).values[0] #kWh\n",
        "# Total Solar Power Production for a 400W Tesla Solar Panel\n",
        "TSPP = (400 * 7 * 365)/1000 #kWh in 7hrs for a 400w in 1 year\n",
        "n = TEC / TSPP\n",
        "print(n/1000000000,\"B\",\"Tesla Solar Panels\")\n",
        "solarpanels = n/1000000000\n",
        "\n"
      ],
      "metadata": {
        "colab": {
          "base_uri": "https://localhost:8080/"
        },
        "id": "NWAUS57R__S8",
        "outputId": "2a25b72f-1a2a-4b2a-b667-3f2dfee8c0c8"
      },
      "execution_count": 37,
      "outputs": [
        {
          "output_type": "stream",
          "name": "stdout",
          "text": [
            "26.928101761252446 B Tesla Solar Panels\n"
          ]
        }
      ]
    },
    {
      "cell_type": "code",
      "source": [
        "TNPP = 3937000 * 24 * 365 #kwh for a 3937000W Nuclear Power Plant for 24hrs in a year at full capacity\n",
        "n2 = TEC / TNPP\n",
        "print(n2,\"Palo Verde nuclear power plant\")\n",
        "plants = n2\n",
        "\n",
        "#Creating Dataset\n",
        "newmetrics = {\"Tesla 400W Solar Panels (B)\":solarpanels,\"Palo Verde Nuclear power plants\":plants,\"Total Electricty Consumption 2021\":data[\"Total Consumption (TWh)\"].tail(1).values[0],\"1 TSPP/ Year\":\"3.8KWh * 356\",\"1 TNPP\":\"3937000KW * 24 * 365\"}"
      ],
      "metadata": {
        "colab": {
          "base_uri": "https://localhost:8080/"
        },
        "id": "YMOS9L1mEIAa",
        "outputId": "ea9c0806-07aa-4577-ba7f-8df8013710e5"
      },
      "execution_count": 38,
      "outputs": [
        {
          "output_type": "stream",
          "name": "stdout",
          "text": [
            "797.9710114671371 Palo Verde nuclear power plant\n"
          ]
        }
      ]
    },
    {
      "cell_type": "markdown",
      "source": [
        "Area of solar panles needed compared to cities"
      ],
      "metadata": {
        "id": "ooSlbERKiUQd"
      }
    },
    {
      "cell_type": "code",
      "source": [
        "asp = 1.995 # Sqm #Area of 1 Tesla Solar Panel\n",
        "totalarea = asp * n #Sqm\n",
        "\n",
        "texasarea = 695662 * 1000000 #Sqm\n",
        "nycarea = \t783.8  * 1000000 #Sqm\n",
        "london = 1572 * 1000000 #Sqm\n",
        "mumbai = 603.4 * 1000000 #Sqm\n",
        "usa = 9372610\t* 1000000 #Sqm\n",
        "\n",
        "print(totalarea/texasarea,\"Texas\")\n",
        "print(totalarea/nycarea,\"NYCs\")\n",
        "print(totalarea/london,\"Londons\")\n",
        "print(totalarea/mumbai,\"Mumbais\")\n",
        "print((totalarea/usa),\"USAs\")\n",
        "\n",
        "datacity = {\"Total Area (Sqm)\":totalarea,\"Mumbai\":totalarea/mumbai,\"NYC\":totalarea/nycarea,\"London\":totalarea/london,\"Texas\":totalarea/texasarea,\"USA\":totalarea/usa}\n",
        "print(datacity)"
      ],
      "metadata": {
        "colab": {
          "base_uri": "https://localhost:8080/"
        },
        "id": "ZMFFeDvVJLfS",
        "outputId": "41cf5684-4e85-47bb-97d4-f6b0c6257bb5"
      },
      "execution_count": 39,
      "outputs": [
        {
          "output_type": "stream",
          "name": "stdout",
          "text": [
            "0.07722365604805011 Texas\n",
            "68.53988646810237 NYCs\n",
            "34.17402227334519 Londons\n",
            "89.03142693685554 Mumbais\n",
            "0.005731761271801412 USAs\n",
            "{'Total Area (Sqm)': 53721563013.69863, 'Mumbai': 89.03142693685554, 'NYC': 68.53988646810237, 'London': 34.17402227334519, 'Texas': 0.07722365604805011, 'USA': 0.005731761271801412}\n"
          ]
        }
      ]
    },
    {
      "cell_type": "markdown",
      "source": [
        "# Data processing"
      ],
      "metadata": {
        "id": "CCKzCr05KAvJ"
      }
    },
    {
      "cell_type": "code",
      "source": [
        "#Data needed to be predicted is Total Renewable production till 2100\n",
        "totaldatanp = np.array(data2[\"Total Renewable Production (TWh)\"].apply(pd.to_numeric)).reshape(-1,1)\n",
        "print(totaldatanp)"
      ],
      "metadata": {
        "colab": {
          "base_uri": "https://localhost:8080/"
        },
        "id": "fBzRCuJEzLbK",
        "outputId": "78697d37-6541-4c20-864d-a476d618cbe0"
      },
      "execution_count": 40,
      "outputs": [
        {
          "output_type": "stream",
          "name": "stdout",
          "text": [
            "[[ 3546.565]\n",
            " [ 3687.041]\n",
            " [ 3860.288]\n",
            " [ 4084.592]\n",
            " [ 4139.842]\n",
            " [ 4280.392]\n",
            " [ 4432.196]\n",
            " [ 4457.337]\n",
            " [ 4667.631]\n",
            " [ 4730.874]\n",
            " [ 4963.294]\n",
            " [ 5087.775]\n",
            " [ 5130.474]\n",
            " [ 5203.837]\n",
            " [ 5329.563]\n",
            " [ 5380.33 ]\n",
            " [ 5387.2  ]\n",
            " [ 5482.5  ]\n",
            " [ 5486.78 ]\n",
            " [ 5824.14 ]\n",
            " [ 5976.71 ]\n",
            " [ 6160.04 ]\n",
            " [ 6213.87 ]\n",
            " [ 6453.51 ]\n",
            " [ 6509.3  ]\n",
            " [ 6882.15 ]\n",
            " [ 6984.24 ]\n",
            " [ 7128.4  ]\n",
            " [ 7455.36 ]\n",
            " [ 7776.93 ]\n",
            " [ 8022.77 ]\n",
            " [ 8402.23 ]\n",
            " [ 8786.45 ]\n",
            " [ 9280.96 ]\n",
            " [ 9746.45 ]\n",
            " [10082.09 ]\n",
            " [10528.45 ]]\n"
          ]
        }
      ]
    },
    {
      "cell_type": "code",
      "source": [
        "#Scalling the data\n",
        "scaler = MinMaxScaler(feature_range=(0,1))\n",
        "totaldata = scaler.fit_transform(totaldatanp)\n",
        "\n",
        "#Training length\n",
        "train_len = math.ceil(len(totaldata) * .8) # 80%\n",
        "train_data = totaldata[0:train_len]\n",
        "# print(train_data)\n",
        "\n",
        "x_train,y_train = [],[]\n",
        "\n",
        "#For every 5 years we will predict the 6th year based on the previous 5 years\n",
        "\n",
        "#Training Data\n",
        "n = 5\n",
        "for i in range(n,len(train_data)):\n",
        "  x_train.append(train_data[i-n:i,0])\n",
        "  y_train.append(train_data[i,0])\n",
        "\n",
        "x_train, y_train = np.array(x_train), np.array(y_train)\n",
        "print(x_train)\n",
        "print(y_train)\n",
        "\n",
        "#Testing Data\n",
        "test_data = totaldata[train_len:]\n",
        "x_test = []\n",
        "y_test = []\n",
        "\n",
        "for i in range(n,len(test_data)):\n",
        "  x_test.append(test_data[i-n:i,0])\n",
        "  y_test.append(test_data[i,0])\n",
        "\n",
        "x_test,y_test = np.array(x_test), np.array(y_test)\n",
        "print(x_test,y_test)\n"
      ],
      "metadata": {
        "colab": {
          "base_uri": "https://localhost:8080/"
        },
        "id": "oaUA9i_PwXMX",
        "outputId": "74f8ffc2-7798-47fa-8d96-b0142bb5d3a2"
      },
      "execution_count": 41,
      "outputs": [
        {
          "output_type": "stream",
          "name": "stdout",
          "text": [
            "[[0.         0.02012007 0.04493385 0.07706042 0.08497376]\n",
            " [0.02012007 0.04493385 0.07706042 0.08497376 0.10510442]\n",
            " [0.04493385 0.07706042 0.08497376 0.10510442 0.12684698]\n",
            " [0.07706042 0.08497376 0.10510442 0.12684698 0.13044787]\n",
            " [0.08497376 0.10510442 0.12684698 0.13044787 0.16056781]\n",
            " [0.10510442 0.12684698 0.13044787 0.16056781 0.16962597]\n",
            " [0.12684698 0.13044787 0.16056781 0.16962597 0.20291497]\n",
            " [0.13044787 0.16056781 0.16962597 0.20291497 0.22074411]\n",
            " [0.16056781 0.16962597 0.20291497 0.22074411 0.2268598 ]\n",
            " [0.16962597 0.20291497 0.22074411 0.2268598  0.23736742]\n",
            " [0.20291497 0.22074411 0.2268598  0.23736742 0.25537487]\n",
            " [0.22074411 0.2268598  0.23736742 0.25537487 0.26264612]\n",
            " [0.2268598  0.23736742 0.25537487 0.26264612 0.26363009]\n",
            " [0.23736742 0.25537487 0.26264612 0.26363009 0.2772797 ]\n",
            " [0.25537487 0.26264612 0.26363009 0.2772797  0.27789272]\n",
            " [0.26264612 0.26363009 0.2772797  0.27789272 0.32621205]\n",
            " [0.26363009 0.2772797  0.27789272 0.32621205 0.34806431]\n",
            " [0.2772797  0.27789272 0.32621205 0.34806431 0.37432226]\n",
            " [0.27789272 0.32621205 0.34806431 0.37432226 0.38203222]\n",
            " [0.32621205 0.34806431 0.37432226 0.38203222 0.41635533]\n",
            " [0.34806431 0.37432226 0.38203222 0.41635533 0.424346  ]\n",
            " [0.37432226 0.38203222 0.41635533 0.424346   0.47774849]\n",
            " [0.38203222 0.41635533 0.424346   0.47774849 0.49237061]\n",
            " [0.41635533 0.424346   0.47774849 0.49237061 0.51301833]\n",
            " [0.424346   0.47774849 0.49237061 0.51301833 0.55984809]]\n",
            "[0.10510442 0.12684698 0.13044787 0.16056781 0.16962597 0.20291497\n",
            " 0.22074411 0.2268598  0.23736742 0.25537487 0.26264612 0.26363009\n",
            " 0.2772797  0.27789272 0.32621205 0.34806431 0.37432226 0.38203222\n",
            " 0.41635533 0.424346   0.47774849 0.49237061 0.51301833 0.55984809\n",
            " 0.60590585]\n",
            "[[0.64111698 0.6954662  0.75049718 0.82132476 0.88799586]\n",
            " [0.6954662  0.75049718 0.82132476 0.88799586 0.93606884]] [0.93606884 1.        ]\n"
          ]
        }
      ]
    },
    {
      "cell_type": "markdown",
      "source": [
        "# **ML Modeling**"
      ],
      "metadata": {
        "id": "c5iRCNdZjWeM"
      }
    },
    {
      "cell_type": "markdown",
      "source": [
        "Creating models"
      ],
      "metadata": {
        "id": "MlxgXg8JjhfD"
      }
    },
    {
      "cell_type": "code",
      "source": [
        "model = LinearRegression()\n",
        "model.fit(x_train,y_train)\n",
        "\n",
        "model2 = DecisionTreeRegressor()\n",
        "model2.fit(x_train,y_train)\n",
        "\n",
        "model3 = XGBRegressor()\n",
        "model3.fit(x_train,y_train)\n",
        "\n",
        "model4 = SVR()\n",
        "model4.fit(x_train,y_train)"
      ],
      "metadata": {
        "colab": {
          "base_uri": "https://localhost:8080/"
        },
        "id": "9eHSslYP4od_",
        "outputId": "07cdfe15-efec-445a-f30a-8d0bb28bcd07"
      },
      "execution_count": 42,
      "outputs": [
        {
          "output_type": "stream",
          "name": "stdout",
          "text": [
            "[20:15:13] WARNING: /workspace/src/objective/regression_obj.cu:152: reg:linear is now deprecated in favor of reg:squarederror.\n"
          ]
        },
        {
          "output_type": "execute_result",
          "data": {
            "text/plain": [
              "SVR()"
            ]
          },
          "metadata": {},
          "execution_count": 42
        }
      ]
    },
    {
      "cell_type": "markdown",
      "source": [
        "Predicting"
      ],
      "metadata": {
        "id": "xorlkDKNja87"
      }
    },
    {
      "cell_type": "code",
      "source": [
        "pred = model.predict(x_test)\n",
        "print(pred)\n",
        "\n",
        "pred2 = model2.predict(x_test)\n",
        "print(pred2)\n",
        "\n",
        "pred3 = model3.predict(x_test)\n",
        "print(pred3)\n",
        "\n",
        "pred4 = model4.predict(x_test)\n",
        "print(pred4)"
      ],
      "metadata": {
        "colab": {
          "base_uri": "https://localhost:8080/"
        },
        "id": "kZGn828m4s1s",
        "outputId": "cf899335-e372-4ff6-a476-e016a279d8c8"
      },
      "execution_count": 43,
      "outputs": [
        {
          "output_type": "stream",
          "name": "stdout",
          "text": [
            "[0.93730577 0.99300837]\n",
            "[0.60590585 0.60590585]\n",
            "[0.60461855 0.60461855]\n",
            "[0.35728778 0.35571747]\n"
          ]
        }
      ]
    },
    {
      "cell_type": "markdown",
      "source": [
        "MSE Calculation"
      ],
      "metadata": {
        "id": "4tm6RBStjjzM"
      }
    },
    {
      "cell_type": "code",
      "source": [
        "mse = metrics.mean_squared_error(y_test, pred)\n",
        "print(mse)\n",
        "mse2 = metrics.mean_squared_error(y_test, pred2)\n",
        "print(mse2)\n",
        "mse3 = metrics.mean_squared_error(y_test, pred3)\n",
        "print(mse3)\n",
        "mse4 = metrics.mean_squared_error(y_test, pred4)\n",
        "print(mse4)"
      ],
      "metadata": {
        "colab": {
          "base_uri": "https://localhost:8080/"
        },
        "id": "cpeQV-8241XV",
        "outputId": "f3cb5876-48a3-4265-ab38-76a885b4d0cc"
      },
      "execution_count": 44,
      "outputs": [
        {
          "output_type": "stream",
          "name": "stdout",
          "text": [
            "2.5206462172338024e-05\n",
            "0.13215889627174401\n",
            "0.13309289368131752\n",
            "0.37504374845293753\n"
          ]
        }
      ]
    },
    {
      "cell_type": "code",
      "source": [
        "print(scaler.inverse_transform(np.array(pred).reshape(-1,1)))\n",
        "print(scaler.inverse_transform(np.array(y_test).reshape(-1,1)))\n",
        "print(pred)"
      ],
      "metadata": {
        "colab": {
          "base_uri": "https://localhost:8080/"
        },
        "id": "LTS0GRqt6HS0",
        "outputId": "e7205092-8865-4507-cca9-0919f9a6686d"
      },
      "execution_count": 45,
      "outputs": [
        {
          "output_type": "stream",
          "name": "stdout",
          "text": [
            "[[10090.72609318]\n",
            " [10479.63522243]]\n",
            "[[10082.09]\n",
            " [10528.45]]\n",
            "[0.93730577 0.99300837]\n"
          ]
        }
      ]
    },
    {
      "cell_type": "markdown",
      "source": [
        "# Creating our Prediction Class"
      ],
      "metadata": {
        "id": "Uq9cP_iejnya"
      }
    },
    {
      "cell_type": "code",
      "source": [
        "class RenewablePredictor:\n",
        "  def __init__(self,data,model,num,scaler):\n",
        "    self.scaler = scaler\n",
        "    self.data = data\n",
        "    self.datalen = len(self.data)\n",
        "    self.model = model\n",
        "\n",
        "    self.x_pred = None\n",
        "    self.num = num\n",
        "    self.newdata = self.data\n",
        "    self.newdatalen = len(self.newdata)\n",
        "\n",
        "    self.converted = []\n",
        "    self.yearly = {\"Year\":[],\"Electricity from All Renewables (TWh)\":[],\"Status\":[]}\n",
        "  \n",
        "  def GetLast(self):\n",
        "    self.x_pred = [[x[0] for x in self.newdata[int(self.newdatalen)-5:]]]\n",
        "    return self.x_pred\n",
        "    \n",
        "  def Prediction(self):\n",
        "    for i in range(self.num):\n",
        "      self.x_pred = self.GetLast()\n",
        "      self.prediction = self.model.predict(self.x_pred)\n",
        "      #Update our Universal array & its len with our predictions\n",
        "      self.newdata = np.append(self.newdata,np.array(self.prediction).reshape(-1,1),axis=0)\n",
        "      self.newdatalen = len(self.newdata)\n",
        "\n",
        "  def transformdata(self):\n",
        "    for i in range(self.newdatalen):\n",
        "      self.converted = np.append(self.converted,int(self.scaler.inverse_transform(np.array(self.newdata[i]).reshape(-1,1))))\n",
        "\n",
        "  def getyearly(self):\n",
        "    self.arr = self.converted\n",
        "    startyear = 1985\n",
        "\n",
        "    for i in range(0,len(self.arr)):\n",
        "       self.yearly[\"Year\"].append(f\"{startyear}\")\n",
        "       self.yearly[\"Electricity from All Renewables (TWh)\"].append(self.arr[i].tolist())\n",
        "\n",
        "       if i < self.datalen:\n",
        "         self.yearly[\"Status\"].append(\"Reported\")\n",
        "       else:\n",
        "          self.yearly[\"Status\"].append(\"Predicted\")\n",
        "\n",
        "       startyear +=1\n",
        "  \n",
        "\n",
        "  def Report(self):\n",
        "    return self.yearly\n",
        "\n",
        "   \n"
      ],
      "metadata": {
        "id": "G_cSsnIl6auO"
      },
      "execution_count": 46,
      "outputs": []
    },
    {
      "cell_type": "markdown",
      "source": [
        "# Prediction & Saving Datasets"
      ],
      "metadata": {
        "id": "CLvsQmwHjwJg"
      }
    },
    {
      "cell_type": "markdown",
      "source": [
        "Predicting for next 80 years till 2100"
      ],
      "metadata": {
        "id": "JJW01PiAjzyC"
      }
    },
    {
      "cell_type": "code",
      "source": [
        "years = 80\n",
        "rp = RenewablePredictor(totaldata,model,years,scaler)\n",
        "rp.Prediction()\n",
        "rp.transformdata()\n",
        "rp.getyearly()"
      ],
      "metadata": {
        "id": "6gV-Eikt6wzs"
      },
      "execution_count": 47,
      "outputs": []
    },
    {
      "cell_type": "markdown",
      "source": [
        "Creating Datasets for all information we aquired in the code\n",
        "\n",
        "\n",
        "*   Number of Solar Panels \n",
        "*   Number of Nuclear Power Plants \n",
        "\n",
        "\n",
        "*   Area of solar panels needed\n",
        "*   Predicting Total Global Renewable(Nuclear +other Renewables) electricity production till 2100\n",
        "\n",
        "\n",
        "\n",
        "\n"
      ],
      "metadata": {
        "id": "zaBMB91Oj4iA"
      }
    },
    {
      "cell_type": "code",
      "source": [
        "finaldata = pd.DataFrame(rp.Report())\n",
        "cityarea = pd.DataFrame(datacity,index=[0])\n",
        "metricsdata = pd.DataFrame(newmetrics,index=[0])\n",
        "\n",
        "finaldata.to_csv(\"ReneablesReport.csv\")\n",
        "data.to_csv(\"ElectricityConsumption.csv\")\n",
        "cityarea.to_csv(\"CityAreaData.csv\")\n",
        "metricsdata.to_csv(\"Information.csv\")"
      ],
      "metadata": {
        "id": "xlUfij_2DQwh"
      },
      "execution_count": 48,
      "outputs": []
    }
  ]
}