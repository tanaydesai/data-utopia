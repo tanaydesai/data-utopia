{
  "nbformat": 4,
  "nbformat_minor": 0,
  "metadata": {
    "colab": {
      "name": "TeslaC02Svaings.ipynb",
      "provenance": [],
      "collapsed_sections": [
        "a8XKCuFZe6Vw",
        "903qexJnfhSo",
        "zK8DKrm_jDhD"
      ]
    },
    "kernelspec": {
      "name": "python3",
      "display_name": "Python 3"
    },
    "language_info": {
      "name": "python"
    }
  },
  "cells": [
    {
      "cell_type": "markdown",
      "source": [
        "# Import Libraries\n"
      ],
      "metadata": {
        "id": "a8XKCuFZe6Vw"
      }
    },
    {
      "cell_type": "code",
      "execution_count": null,
      "metadata": {
        "id": "fLaDBrf_84lI"
      },
      "outputs": [],
      "source": [
        "#Maths\n",
        "import math\n",
        "import pandas as pd\n",
        "import numpy as np\n",
        "import matplotlib.pyplot as plt\n",
        "\n",
        "#Model\n",
        "from sklearn.tree import DecisionTreeRegressor\n",
        "from sklearn.linear_model import LinearRegression\n",
        "from xgboost.sklearn import XGBRegressor\n",
        "from sklearn.svm import SVR\n",
        "\n",
        "#Processing\n",
        "from sklearn.preprocessing import MinMaxScaler\n",
        "from sklearn import metrics"
      ]
    },
    {
      "cell_type": "markdown",
      "source": [
        "# **Data Processing**\n",
        "\n",
        "*   Load Data\n",
        "\n",
        "\n",
        "\n",
        "\n",
        "\n",
        "\n"
      ],
      "metadata": {
        "id": "903qexJnfhSo"
      }
    },
    {
      "cell_type": "code",
      "source": [
        "data = pd.read_csv(\"tesladeliv2.csv\",index_col=False)\n",
        "data.head(20)\n",
        "data.columns"
      ],
      "metadata": {
        "colab": {
          "base_uri": "https://localhost:8080/"
        },
        "id": "S6WgPop69T71",
        "outputId": "49e69c01-27f6-463f-d79b-7996536b916e"
      },
      "execution_count": null,
      "outputs": [
        {
          "output_type": "execute_result",
          "data": {
            "text/plain": [
              "Index(['Deliveries', 'Tesla Model 3 & Y', 'Tesla Model S & X', 'Unnamed: 3'], dtype='object')"
            ]
          },
          "metadata": {},
          "execution_count": 2
        }
      ]
    },
    {
      "cell_type": "markdown",
      "source": [
        "\n",
        "\n",
        "*   Pre-processing/Cleaning Data\n",
        "\n",
        "\n"
      ],
      "metadata": {
        "id": "Ss2LYReIf_c8"
      }
    },
    {
      "cell_type": "code",
      "source": [
        "data.info()\n",
        "print(data.shape)"
      ],
      "metadata": {
        "id": "ABSNHsio94sG",
        "colab": {
          "base_uri": "https://localhost:8080/"
        },
        "outputId": "3e497956-58f2-4d8f-ce3f-f45489136f84"
      },
      "execution_count": null,
      "outputs": [
        {
          "output_type": "stream",
          "name": "stdout",
          "text": [
            "<class 'pandas.core.frame.DataFrame'>\n",
            "RangeIndex: 24 entries, 0 to 23\n",
            "Data columns (total 4 columns):\n",
            " #   Column             Non-Null Count  Dtype \n",
            "---  ------             --------------  ----- \n",
            " 0   Deliveries         24 non-null     object\n",
            " 1   Tesla Model 3 & Y  24 non-null     int64 \n",
            " 2   Tesla Model S & X  24 non-null     int64 \n",
            " 3   Unnamed: 3         24 non-null     int64 \n",
            "dtypes: int64(3), object(1)\n",
            "memory usage: 896.0+ bytes\n",
            "(24, 4)\n"
          ]
        }
      ]
    },
    {
      "cell_type": "code",
      "source": [
        "data[\"Total Q\"] = data[\"Unnamed: 3\"]\n",
        "data.drop(columns=[\"Unnamed: 3\"],inplace=True)\n",
        "#Reformatting our Dataset quater column (Deliveries) to Pandas Datetime format\n",
        "data['Deliveries'] = data[\"Deliveries\"].str.split().apply(lambda x: x[::-1]).apply(lambda x: \"-\".join(x))"
      ],
      "metadata": {
        "id": "d8Kkzard0sJw"
      },
      "execution_count": null,
      "outputs": []
    },
    {
      "cell_type": "code",
      "source": [
        "data.tail(2)"
      ],
      "metadata": {
        "colab": {
          "base_uri": "https://localhost:8080/",
          "height": 112
        },
        "id": "c_n9-y_P2nFX",
        "outputId": "00084832-fb38-4d49-9c98-163352d18dcd"
      },
      "execution_count": null,
      "outputs": [
        {
          "output_type": "execute_result",
          "data": {
            "text/plain": [
              "   Deliveries  Tesla Model 3 & Y  Tesla Model S & X  Total Q\n",
              "22    2021-Q4             296850              11750   308600\n",
              "23    2022-Q1             295324              14724   310048"
            ],
            "text/html": [
              "\n",
              "  <div id=\"df-d928fb0a-b5d6-4a7a-9e8d-f3923a82862d\">\n",
              "    <div class=\"colab-df-container\">\n",
              "      <div>\n",
              "<style scoped>\n",
              "    .dataframe tbody tr th:only-of-type {\n",
              "        vertical-align: middle;\n",
              "    }\n",
              "\n",
              "    .dataframe tbody tr th {\n",
              "        vertical-align: top;\n",
              "    }\n",
              "\n",
              "    .dataframe thead th {\n",
              "        text-align: right;\n",
              "    }\n",
              "</style>\n",
              "<table border=\"1\" class=\"dataframe\">\n",
              "  <thead>\n",
              "    <tr style=\"text-align: right;\">\n",
              "      <th></th>\n",
              "      <th>Deliveries</th>\n",
              "      <th>Tesla Model 3 &amp; Y</th>\n",
              "      <th>Tesla Model S &amp; X</th>\n",
              "      <th>Total Q</th>\n",
              "    </tr>\n",
              "  </thead>\n",
              "  <tbody>\n",
              "    <tr>\n",
              "      <th>22</th>\n",
              "      <td>2021-Q4</td>\n",
              "      <td>296850</td>\n",
              "      <td>11750</td>\n",
              "      <td>308600</td>\n",
              "    </tr>\n",
              "    <tr>\n",
              "      <th>23</th>\n",
              "      <td>2022-Q1</td>\n",
              "      <td>295324</td>\n",
              "      <td>14724</td>\n",
              "      <td>310048</td>\n",
              "    </tr>\n",
              "  </tbody>\n",
              "</table>\n",
              "</div>\n",
              "      <button class=\"colab-df-convert\" onclick=\"convertToInteractive('df-d928fb0a-b5d6-4a7a-9e8d-f3923a82862d')\"\n",
              "              title=\"Convert this dataframe to an interactive table.\"\n",
              "              style=\"display:none;\">\n",
              "        \n",
              "  <svg xmlns=\"http://www.w3.org/2000/svg\" height=\"24px\"viewBox=\"0 0 24 24\"\n",
              "       width=\"24px\">\n",
              "    <path d=\"M0 0h24v24H0V0z\" fill=\"none\"/>\n",
              "    <path d=\"M18.56 5.44l.94 2.06.94-2.06 2.06-.94-2.06-.94-.94-2.06-.94 2.06-2.06.94zm-11 1L8.5 8.5l.94-2.06 2.06-.94-2.06-.94L8.5 2.5l-.94 2.06-2.06.94zm10 10l.94 2.06.94-2.06 2.06-.94-2.06-.94-.94-2.06-.94 2.06-2.06.94z\"/><path d=\"M17.41 7.96l-1.37-1.37c-.4-.4-.92-.59-1.43-.59-.52 0-1.04.2-1.43.59L10.3 9.45l-7.72 7.72c-.78.78-.78 2.05 0 2.83L4 21.41c.39.39.9.59 1.41.59.51 0 1.02-.2 1.41-.59l7.78-7.78 2.81-2.81c.8-.78.8-2.07 0-2.86zM5.41 20L4 18.59l7.72-7.72 1.47 1.35L5.41 20z\"/>\n",
              "  </svg>\n",
              "      </button>\n",
              "      \n",
              "  <style>\n",
              "    .colab-df-container {\n",
              "      display:flex;\n",
              "      flex-wrap:wrap;\n",
              "      gap: 12px;\n",
              "    }\n",
              "\n",
              "    .colab-df-convert {\n",
              "      background-color: #E8F0FE;\n",
              "      border: none;\n",
              "      border-radius: 50%;\n",
              "      cursor: pointer;\n",
              "      display: none;\n",
              "      fill: #1967D2;\n",
              "      height: 32px;\n",
              "      padding: 0 0 0 0;\n",
              "      width: 32px;\n",
              "    }\n",
              "\n",
              "    .colab-df-convert:hover {\n",
              "      background-color: #E2EBFA;\n",
              "      box-shadow: 0px 1px 2px rgba(60, 64, 67, 0.3), 0px 1px 3px 1px rgba(60, 64, 67, 0.15);\n",
              "      fill: #174EA6;\n",
              "    }\n",
              "\n",
              "    [theme=dark] .colab-df-convert {\n",
              "      background-color: #3B4455;\n",
              "      fill: #D2E3FC;\n",
              "    }\n",
              "\n",
              "    [theme=dark] .colab-df-convert:hover {\n",
              "      background-color: #434B5C;\n",
              "      box-shadow: 0px 1px 3px 1px rgba(0, 0, 0, 0.15);\n",
              "      filter: drop-shadow(0px 1px 2px rgba(0, 0, 0, 0.3));\n",
              "      fill: #FFFFFF;\n",
              "    }\n",
              "  </style>\n",
              "\n",
              "      <script>\n",
              "        const buttonEl =\n",
              "          document.querySelector('#df-d928fb0a-b5d6-4a7a-9e8d-f3923a82862d button.colab-df-convert');\n",
              "        buttonEl.style.display =\n",
              "          google.colab.kernel.accessAllowed ? 'block' : 'none';\n",
              "\n",
              "        async function convertToInteractive(key) {\n",
              "          const element = document.querySelector('#df-d928fb0a-b5d6-4a7a-9e8d-f3923a82862d');\n",
              "          const dataTable =\n",
              "            await google.colab.kernel.invokeFunction('convertToInteractive',\n",
              "                                                     [key], {});\n",
              "          if (!dataTable) return;\n",
              "\n",
              "          const docLinkHtml = 'Like what you see? Visit the ' +\n",
              "            '<a target=\"_blank\" href=https://colab.research.google.com/notebooks/data_table.ipynb>data table notebook</a>'\n",
              "            + ' to learn more about interactive tables.';\n",
              "          element.innerHTML = '';\n",
              "          dataTable['output_type'] = 'display_data';\n",
              "          await google.colab.output.renderOutput(dataTable, element);\n",
              "          const docLink = document.createElement('div');\n",
              "          docLink.innerHTML = docLinkHtml;\n",
              "          element.appendChild(docLink);\n",
              "        }\n",
              "      </script>\n",
              "    </div>\n",
              "  </div>\n",
              "  "
            ]
          },
          "metadata": {},
          "execution_count": 5
        }
      ]
    },
    {
      "cell_type": "code",
      "source": [
        "data[\"Deliveries\"] = pd.to_datetime(data[\"Deliveries\"])"
      ],
      "metadata": {
        "id": "AVFMUKEz2xo6"
      },
      "execution_count": null,
      "outputs": []
    },
    {
      "cell_type": "code",
      "source": [
        "#Changing the Datatype of our Variables\n",
        "data['Tesla Model 3 & Y'] = data['Tesla Model 3 & Y'].astype(float)\n",
        "data['Tesla Model S & X'] = data['Tesla Model S & X'].astype(float)\n",
        "data['Total Q'] = data['Total Q'].astype(float)\n",
        "data.head(10)\n",
        "data.info()"
      ],
      "metadata": {
        "colab": {
          "base_uri": "https://localhost:8080/"
        },
        "id": "wfw0wqWm2xAZ",
        "outputId": "6a02fad6-4b55-4745-9adb-8b7f84a4f641"
      },
      "execution_count": null,
      "outputs": [
        {
          "output_type": "stream",
          "name": "stdout",
          "text": [
            "<class 'pandas.core.frame.DataFrame'>\n",
            "RangeIndex: 24 entries, 0 to 23\n",
            "Data columns (total 4 columns):\n",
            " #   Column             Non-Null Count  Dtype         \n",
            "---  ------             --------------  -----         \n",
            " 0   Deliveries         24 non-null     datetime64[ns]\n",
            " 1   Tesla Model 3 & Y  24 non-null     float64       \n",
            " 2   Tesla Model S & X  24 non-null     float64       \n",
            " 3   Total Q            24 non-null     float64       \n",
            "dtypes: datetime64[ns](1), float64(3)\n",
            "memory usage: 896.0 bytes\n"
          ]
        }
      ]
    },
    {
      "cell_type": "code",
      "source": [
        "data.head(25)\n",
        "# data.info()"
      ],
      "metadata": {
        "colab": {
          "base_uri": "https://localhost:8080/",
          "height": 802
        },
        "id": "eCVhK-Of7FL6",
        "outputId": "ff5faa3b-0bf4-4a7e-c029-99d3453f66e8"
      },
      "execution_count": null,
      "outputs": [
        {
          "output_type": "execute_result",
          "data": {
            "text/plain": [
              "   Deliveries  Tesla Model 3 & Y  Tesla Model S & X   Total Q\n",
              "0  2016-04-01                0.0            14402.0   14402.0\n",
              "1  2016-07-01                0.0            24821.0   24821.0\n",
              "2  2016-10-01                0.0            22200.0   22200.0\n",
              "3  2017-01-01                0.0            25051.0   25051.0\n",
              "4  2017-04-01                0.0            22020.0   22020.0\n",
              "5  2017-07-01              220.0            25930.0   26150.0\n",
              "6  2017-10-01             1550.0            28320.0   29870.0\n",
              "7  2018-01-01             8180.0            21800.0   29980.0\n",
              "8  2018-04-01            18440.0            22300.0   40740.0\n",
              "9  2018-07-01            55840.0            27660.0   83500.0\n",
              "10 2018-10-01            63150.0            27550.0   90700.0\n",
              "11 2019-01-01            50900.0            12100.0   63000.0\n",
              "12 2019-04-01            77634.0            17722.0   95356.0\n",
              "13 2019-07-01            79703.0            17483.0   97186.0\n",
              "14 2019-10-01            92620.0            19475.0  112095.0\n",
              "15 2020-01-01            76266.0            12230.0   88496.0\n",
              "16 2020-04-01            80277.0            10614.0   90891.0\n",
              "17 2020-07-01           124318.0            15275.0  139593.0\n",
              "18 2020-10-01           161747.0            18920.0  180667.0\n",
              "19 2021-01-01           182857.0             2020.0  184877.0\n",
              "20 2021-04-01           199414.0             1890.0  201304.0\n",
              "21 2021-07-01           232025.0             9275.0  241300.0\n",
              "22 2021-10-01           296850.0            11750.0  308600.0\n",
              "23 2022-01-01           295324.0            14724.0  310048.0"
            ],
            "text/html": [
              "\n",
              "  <div id=\"df-dd760eb6-6369-47cf-9ae5-34ac389527ed\">\n",
              "    <div class=\"colab-df-container\">\n",
              "      <div>\n",
              "<style scoped>\n",
              "    .dataframe tbody tr th:only-of-type {\n",
              "        vertical-align: middle;\n",
              "    }\n",
              "\n",
              "    .dataframe tbody tr th {\n",
              "        vertical-align: top;\n",
              "    }\n",
              "\n",
              "    .dataframe thead th {\n",
              "        text-align: right;\n",
              "    }\n",
              "</style>\n",
              "<table border=\"1\" class=\"dataframe\">\n",
              "  <thead>\n",
              "    <tr style=\"text-align: right;\">\n",
              "      <th></th>\n",
              "      <th>Deliveries</th>\n",
              "      <th>Tesla Model 3 &amp; Y</th>\n",
              "      <th>Tesla Model S &amp; X</th>\n",
              "      <th>Total Q</th>\n",
              "    </tr>\n",
              "  </thead>\n",
              "  <tbody>\n",
              "    <tr>\n",
              "      <th>0</th>\n",
              "      <td>2016-04-01</td>\n",
              "      <td>0.0</td>\n",
              "      <td>14402.0</td>\n",
              "      <td>14402.0</td>\n",
              "    </tr>\n",
              "    <tr>\n",
              "      <th>1</th>\n",
              "      <td>2016-07-01</td>\n",
              "      <td>0.0</td>\n",
              "      <td>24821.0</td>\n",
              "      <td>24821.0</td>\n",
              "    </tr>\n",
              "    <tr>\n",
              "      <th>2</th>\n",
              "      <td>2016-10-01</td>\n",
              "      <td>0.0</td>\n",
              "      <td>22200.0</td>\n",
              "      <td>22200.0</td>\n",
              "    </tr>\n",
              "    <tr>\n",
              "      <th>3</th>\n",
              "      <td>2017-01-01</td>\n",
              "      <td>0.0</td>\n",
              "      <td>25051.0</td>\n",
              "      <td>25051.0</td>\n",
              "    </tr>\n",
              "    <tr>\n",
              "      <th>4</th>\n",
              "      <td>2017-04-01</td>\n",
              "      <td>0.0</td>\n",
              "      <td>22020.0</td>\n",
              "      <td>22020.0</td>\n",
              "    </tr>\n",
              "    <tr>\n",
              "      <th>5</th>\n",
              "      <td>2017-07-01</td>\n",
              "      <td>220.0</td>\n",
              "      <td>25930.0</td>\n",
              "      <td>26150.0</td>\n",
              "    </tr>\n",
              "    <tr>\n",
              "      <th>6</th>\n",
              "      <td>2017-10-01</td>\n",
              "      <td>1550.0</td>\n",
              "      <td>28320.0</td>\n",
              "      <td>29870.0</td>\n",
              "    </tr>\n",
              "    <tr>\n",
              "      <th>7</th>\n",
              "      <td>2018-01-01</td>\n",
              "      <td>8180.0</td>\n",
              "      <td>21800.0</td>\n",
              "      <td>29980.0</td>\n",
              "    </tr>\n",
              "    <tr>\n",
              "      <th>8</th>\n",
              "      <td>2018-04-01</td>\n",
              "      <td>18440.0</td>\n",
              "      <td>22300.0</td>\n",
              "      <td>40740.0</td>\n",
              "    </tr>\n",
              "    <tr>\n",
              "      <th>9</th>\n",
              "      <td>2018-07-01</td>\n",
              "      <td>55840.0</td>\n",
              "      <td>27660.0</td>\n",
              "      <td>83500.0</td>\n",
              "    </tr>\n",
              "    <tr>\n",
              "      <th>10</th>\n",
              "      <td>2018-10-01</td>\n",
              "      <td>63150.0</td>\n",
              "      <td>27550.0</td>\n",
              "      <td>90700.0</td>\n",
              "    </tr>\n",
              "    <tr>\n",
              "      <th>11</th>\n",
              "      <td>2019-01-01</td>\n",
              "      <td>50900.0</td>\n",
              "      <td>12100.0</td>\n",
              "      <td>63000.0</td>\n",
              "    </tr>\n",
              "    <tr>\n",
              "      <th>12</th>\n",
              "      <td>2019-04-01</td>\n",
              "      <td>77634.0</td>\n",
              "      <td>17722.0</td>\n",
              "      <td>95356.0</td>\n",
              "    </tr>\n",
              "    <tr>\n",
              "      <th>13</th>\n",
              "      <td>2019-07-01</td>\n",
              "      <td>79703.0</td>\n",
              "      <td>17483.0</td>\n",
              "      <td>97186.0</td>\n",
              "    </tr>\n",
              "    <tr>\n",
              "      <th>14</th>\n",
              "      <td>2019-10-01</td>\n",
              "      <td>92620.0</td>\n",
              "      <td>19475.0</td>\n",
              "      <td>112095.0</td>\n",
              "    </tr>\n",
              "    <tr>\n",
              "      <th>15</th>\n",
              "      <td>2020-01-01</td>\n",
              "      <td>76266.0</td>\n",
              "      <td>12230.0</td>\n",
              "      <td>88496.0</td>\n",
              "    </tr>\n",
              "    <tr>\n",
              "      <th>16</th>\n",
              "      <td>2020-04-01</td>\n",
              "      <td>80277.0</td>\n",
              "      <td>10614.0</td>\n",
              "      <td>90891.0</td>\n",
              "    </tr>\n",
              "    <tr>\n",
              "      <th>17</th>\n",
              "      <td>2020-07-01</td>\n",
              "      <td>124318.0</td>\n",
              "      <td>15275.0</td>\n",
              "      <td>139593.0</td>\n",
              "    </tr>\n",
              "    <tr>\n",
              "      <th>18</th>\n",
              "      <td>2020-10-01</td>\n",
              "      <td>161747.0</td>\n",
              "      <td>18920.0</td>\n",
              "      <td>180667.0</td>\n",
              "    </tr>\n",
              "    <tr>\n",
              "      <th>19</th>\n",
              "      <td>2021-01-01</td>\n",
              "      <td>182857.0</td>\n",
              "      <td>2020.0</td>\n",
              "      <td>184877.0</td>\n",
              "    </tr>\n",
              "    <tr>\n",
              "      <th>20</th>\n",
              "      <td>2021-04-01</td>\n",
              "      <td>199414.0</td>\n",
              "      <td>1890.0</td>\n",
              "      <td>201304.0</td>\n",
              "    </tr>\n",
              "    <tr>\n",
              "      <th>21</th>\n",
              "      <td>2021-07-01</td>\n",
              "      <td>232025.0</td>\n",
              "      <td>9275.0</td>\n",
              "      <td>241300.0</td>\n",
              "    </tr>\n",
              "    <tr>\n",
              "      <th>22</th>\n",
              "      <td>2021-10-01</td>\n",
              "      <td>296850.0</td>\n",
              "      <td>11750.0</td>\n",
              "      <td>308600.0</td>\n",
              "    </tr>\n",
              "    <tr>\n",
              "      <th>23</th>\n",
              "      <td>2022-01-01</td>\n",
              "      <td>295324.0</td>\n",
              "      <td>14724.0</td>\n",
              "      <td>310048.0</td>\n",
              "    </tr>\n",
              "  </tbody>\n",
              "</table>\n",
              "</div>\n",
              "      <button class=\"colab-df-convert\" onclick=\"convertToInteractive('df-dd760eb6-6369-47cf-9ae5-34ac389527ed')\"\n",
              "              title=\"Convert this dataframe to an interactive table.\"\n",
              "              style=\"display:none;\">\n",
              "        \n",
              "  <svg xmlns=\"http://www.w3.org/2000/svg\" height=\"24px\"viewBox=\"0 0 24 24\"\n",
              "       width=\"24px\">\n",
              "    <path d=\"M0 0h24v24H0V0z\" fill=\"none\"/>\n",
              "    <path d=\"M18.56 5.44l.94 2.06.94-2.06 2.06-.94-2.06-.94-.94-2.06-.94 2.06-2.06.94zm-11 1L8.5 8.5l.94-2.06 2.06-.94-2.06-.94L8.5 2.5l-.94 2.06-2.06.94zm10 10l.94 2.06.94-2.06 2.06-.94-2.06-.94-.94-2.06-.94 2.06-2.06.94z\"/><path d=\"M17.41 7.96l-1.37-1.37c-.4-.4-.92-.59-1.43-.59-.52 0-1.04.2-1.43.59L10.3 9.45l-7.72 7.72c-.78.78-.78 2.05 0 2.83L4 21.41c.39.39.9.59 1.41.59.51 0 1.02-.2 1.41-.59l7.78-7.78 2.81-2.81c.8-.78.8-2.07 0-2.86zM5.41 20L4 18.59l7.72-7.72 1.47 1.35L5.41 20z\"/>\n",
              "  </svg>\n",
              "      </button>\n",
              "      \n",
              "  <style>\n",
              "    .colab-df-container {\n",
              "      display:flex;\n",
              "      flex-wrap:wrap;\n",
              "      gap: 12px;\n",
              "    }\n",
              "\n",
              "    .colab-df-convert {\n",
              "      background-color: #E8F0FE;\n",
              "      border: none;\n",
              "      border-radius: 50%;\n",
              "      cursor: pointer;\n",
              "      display: none;\n",
              "      fill: #1967D2;\n",
              "      height: 32px;\n",
              "      padding: 0 0 0 0;\n",
              "      width: 32px;\n",
              "    }\n",
              "\n",
              "    .colab-df-convert:hover {\n",
              "      background-color: #E2EBFA;\n",
              "      box-shadow: 0px 1px 2px rgba(60, 64, 67, 0.3), 0px 1px 3px 1px rgba(60, 64, 67, 0.15);\n",
              "      fill: #174EA6;\n",
              "    }\n",
              "\n",
              "    [theme=dark] .colab-df-convert {\n",
              "      background-color: #3B4455;\n",
              "      fill: #D2E3FC;\n",
              "    }\n",
              "\n",
              "    [theme=dark] .colab-df-convert:hover {\n",
              "      background-color: #434B5C;\n",
              "      box-shadow: 0px 1px 3px 1px rgba(0, 0, 0, 0.15);\n",
              "      filter: drop-shadow(0px 1px 2px rgba(0, 0, 0, 0.3));\n",
              "      fill: #FFFFFF;\n",
              "    }\n",
              "  </style>\n",
              "\n",
              "      <script>\n",
              "        const buttonEl =\n",
              "          document.querySelector('#df-dd760eb6-6369-47cf-9ae5-34ac389527ed button.colab-df-convert');\n",
              "        buttonEl.style.display =\n",
              "          google.colab.kernel.accessAllowed ? 'block' : 'none';\n",
              "\n",
              "        async function convertToInteractive(key) {\n",
              "          const element = document.querySelector('#df-dd760eb6-6369-47cf-9ae5-34ac389527ed');\n",
              "          const dataTable =\n",
              "            await google.colab.kernel.invokeFunction('convertToInteractive',\n",
              "                                                     [key], {});\n",
              "          if (!dataTable) return;\n",
              "\n",
              "          const docLinkHtml = 'Like what you see? Visit the ' +\n",
              "            '<a target=\"_blank\" href=https://colab.research.google.com/notebooks/data_table.ipynb>data table notebook</a>'\n",
              "            + ' to learn more about interactive tables.';\n",
              "          element.innerHTML = '';\n",
              "          dataTable['output_type'] = 'display_data';\n",
              "          await google.colab.output.renderOutput(dataTable, element);\n",
              "          const docLink = document.createElement('div');\n",
              "          docLink.innerHTML = docLinkHtml;\n",
              "          element.appendChild(docLink);\n",
              "        }\n",
              "      </script>\n",
              "    </div>\n",
              "  </div>\n",
              "  "
            ]
          },
          "metadata": {},
          "execution_count": 8
        }
      ]
    },
    {
      "cell_type": "markdown",
      "source": [
        "\n",
        "\n",
        "*   Processing Data\n",
        "\n"
      ],
      "metadata": {
        "id": "c_K-XszTg2HU"
      }
    },
    {
      "cell_type": "code",
      "source": [
        "#Creating a array of Toatl Q column\n",
        "total_np = np.array(data[\"Total Q\"]).reshape(-1,1)\n",
        "\n",
        "#Scaling our Total Q values for model and storing in new array\n",
        "scaler = MinMaxScaler(feature_range=(0,1))\n",
        "data_total_scaled = scaler.fit_transform(total_np)\n",
        "\n",
        "#Decding a Training length, I chose 80%\n",
        "train_len = math.ceil(len(total_np) * .8)\n",
        "train_data_scaled = data_total_scaled[0:train_len, :]\n",
        "print(data_total_scaled)\n",
        "print(train_data_scaled ,train_len)"
      ],
      "metadata": {
        "colab": {
          "base_uri": "https://localhost:8080/"
        },
        "id": "HSavgiyE-ONW",
        "outputId": "89bf7b61-7441-4400-c525-a04e3baef190"
      },
      "execution_count": null,
      "outputs": [
        {
          "output_type": "stream",
          "name": "stdout",
          "text": [
            "[[0.        ]\n",
            " [0.03524147]\n",
            " [0.02637614]\n",
            " [0.03601943]\n",
            " [0.0257673 ]\n",
            " [0.03973671]\n",
            " [0.05231933]\n",
            " [0.05269139]\n",
            " [0.08908627]\n",
            " [0.2337187 ]\n",
            " [0.25807215]\n",
            " [0.16437902]\n",
            " [0.27382072]\n",
            " [0.28001055]\n",
            " [0.33043911]\n",
            " [0.25061729]\n",
            " [0.2587182 ]\n",
            " [0.42344899]\n",
            " [0.56237866]\n",
            " [0.57661866]\n",
            " [0.63218173]\n",
            " [0.76746514]\n",
            " [0.99510225]\n",
            " [1.        ]]\n",
            "[[0.        ]\n",
            " [0.03524147]\n",
            " [0.02637614]\n",
            " [0.03601943]\n",
            " [0.0257673 ]\n",
            " [0.03973671]\n",
            " [0.05231933]\n",
            " [0.05269139]\n",
            " [0.08908627]\n",
            " [0.2337187 ]\n",
            " [0.25807215]\n",
            " [0.16437902]\n",
            " [0.27382072]\n",
            " [0.28001055]\n",
            " [0.33043911]\n",
            " [0.25061729]\n",
            " [0.2587182 ]\n",
            " [0.42344899]\n",
            " [0.56237866]\n",
            " [0.57661866]] 20\n"
          ]
        }
      ]
    },
    {
      "cell_type": "markdown",
      "source": [
        "\n",
        "\n",
        "*Spliting Data into Train/Test*\n",
        "\n",
        "\n",
        "\n",
        "\n"
      ],
      "metadata": {
        "id": "OTimnxu_hjjm"
      }
    },
    {
      "cell_type": "code",
      "source": [
        "print(data_total_scaled.shape)\n",
        "x_train = []\n",
        "y_train = []\n",
        "\n",
        "#Based on any 3 previous Quaters our model will predict the 4th Quater Accordingly\n",
        "n = 3\n",
        "\n",
        "#Training Data\n",
        "#This is 80% of our Toal Data\n",
        "for i in range(n,len(train_data_scaled )):\n",
        "  x_train.append(train_data_scaled [i-n:i,0])\n",
        "  y_train.append(train_data_scaled[i,0])\n",
        "\n",
        "x_train, y_train = np.array(x_train), np.array(y_train)\n",
        "\n",
        "print(x_train)\n",
        "print(y_train)"
      ],
      "metadata": {
        "colab": {
          "base_uri": "https://localhost:8080/"
        },
        "id": "a2vN_qbY_Aus",
        "outputId": "b84566ee-64a0-4714-a234-3dd59929207d"
      },
      "execution_count": null,
      "outputs": [
        {
          "output_type": "stream",
          "name": "stdout",
          "text": [
            "(24, 1)\n",
            "[[0.         0.03524147 0.02637614]\n",
            " [0.03524147 0.02637614 0.03601943]\n",
            " [0.02637614 0.03601943 0.0257673 ]\n",
            " [0.03601943 0.0257673  0.03973671]\n",
            " [0.0257673  0.03973671 0.05231933]\n",
            " [0.03973671 0.05231933 0.05269139]\n",
            " [0.05231933 0.05269139 0.08908627]\n",
            " [0.05269139 0.08908627 0.2337187 ]\n",
            " [0.08908627 0.2337187  0.25807215]\n",
            " [0.2337187  0.25807215 0.16437902]\n",
            " [0.25807215 0.16437902 0.27382072]\n",
            " [0.16437902 0.27382072 0.28001055]\n",
            " [0.27382072 0.28001055 0.33043911]\n",
            " [0.28001055 0.33043911 0.25061729]\n",
            " [0.33043911 0.25061729 0.2587182 ]\n",
            " [0.25061729 0.2587182  0.42344899]\n",
            " [0.2587182  0.42344899 0.56237866]]\n",
            "[0.03601943 0.0257673  0.03973671 0.05231933 0.05269139 0.08908627\n",
            " 0.2337187  0.25807215 0.16437902 0.27382072 0.28001055 0.33043911\n",
            " 0.25061729 0.2587182  0.42344899 0.56237866 0.57661866]\n"
          ]
        }
      ]
    },
    {
      "cell_type": "code",
      "source": [
        "#Testing Data\n",
        "#This is the rest 20% of our Toal Data\n",
        "\n",
        "test_data_scaled = data_total_scaled[train_len:,:]\n",
        "x_test = []\n",
        "y_test = []\n",
        "for i in range(n,len(test_data_scaled)):\n",
        "  x_test.append(test_data_scaled[i-n:i,0])\n",
        "  y_test.append(test_data_scaled[i,0])\n",
        "\n",
        "x_test,y_test = np.array(x_test), np.array(y_test)\n",
        "print(x_test,y_test)\n"
      ],
      "metadata": {
        "id": "nzG8dO6hLd7k",
        "colab": {
          "base_uri": "https://localhost:8080/"
        },
        "outputId": "206c7880-64ff-4f79-a3bb-899fc58221d7"
      },
      "execution_count": null,
      "outputs": [
        {
          "output_type": "stream",
          "name": "stdout",
          "text": [
            "[[0.63218173 0.76746514 0.99510225]] [1.]\n"
          ]
        }
      ]
    },
    {
      "cell_type": "markdown",
      "source": [
        "# Creating our ML Models\n",
        "\n",
        "*   Making Various Models\n",
        "\n"
      ],
      "metadata": {
        "id": "zK8DKrm_jDhD"
      }
    },
    {
      "cell_type": "code",
      "source": [
        "model = LinearRegression()\n",
        "model.fit(x_train,y_train)\n",
        "\n",
        "model2 = DecisionTreeRegressor()\n",
        "model2.fit(x_train,y_train)\n",
        "\n",
        "model3 = XGBRegressor()\n",
        "model3.fit(x_train,y_train)\n",
        "\n",
        "model4 = SVR()\n",
        "model4.fit(x_train,y_train)"
      ],
      "metadata": {
        "colab": {
          "base_uri": "https://localhost:8080/"
        },
        "id": "9OGRCwEd0_95",
        "outputId": "c8e4c19d-fbcc-462d-c86f-bb2133744aa7"
      },
      "execution_count": null,
      "outputs": [
        {
          "output_type": "stream",
          "name": "stdout",
          "text": [
            "[19:41:02] WARNING: /workspace/src/objective/regression_obj.cu:152: reg:linear is now deprecated in favor of reg:squarederror.\n"
          ]
        },
        {
          "output_type": "execute_result",
          "data": {
            "text/plain": [
              "SVR()"
            ]
          },
          "metadata": {},
          "execution_count": 12
        }
      ]
    },
    {
      "cell_type": "markdown",
      "source": [
        "\n",
        "\n",
        "\n",
        "\n",
        "*   Testing our Models (based on x_test)\n",
        "\n",
        "\n",
        "\n"
      ],
      "metadata": {
        "id": "ZYRKnYBYjW-l"
      }
    },
    {
      "cell_type": "code",
      "source": [
        "pred = model.predict(x_test)\n",
        "print(pred)\n",
        "\n",
        "pred2 = model2.predict(x_test)\n",
        "print(pred2)\n",
        "\n",
        "pred3 = model3.predict(x_test)\n",
        "print(pred3)\n",
        "\n",
        "pred4 = model4.predict(x_test)\n",
        "print(pred4)"
      ],
      "metadata": {
        "colab": {
          "base_uri": "https://localhost:8080/"
        },
        "id": "cCEAF_ld1yCP",
        "outputId": "3430a393-7900-449f-fb09-912cc17ec0e8"
      },
      "execution_count": null,
      "outputs": [
        {
          "output_type": "stream",
          "name": "stdout",
          "text": [
            "[1.05351715]\n",
            "[0.57661866]\n",
            "[0.56964]\n",
            "[0.32111407]\n"
          ]
        }
      ]
    },
    {
      "cell_type": "markdown",
      "source": [
        "\n",
        "\n",
        "*   Evaluation our Model (compaing our prediction with y_test)\n",
        "\n"
      ],
      "metadata": {
        "id": "GsV33byGjjWR"
      }
    },
    {
      "cell_type": "code",
      "source": [
        "# Model Rsquared Error Calculation\n",
        "#On How similar our prediction was to the ACTUAL value y_test\n",
        "mse = metrics.mean_squared_error(y_test, pred)\n",
        "print(mse)\n",
        "mse2 = metrics.mean_squared_error(y_test, pred2)\n",
        "print(mse2)\n",
        "mse3 = metrics.mean_squared_error(y_test, pred3)\n",
        "print(mse3)\n",
        "mse4 = metrics.mean_squared_error(y_test, pred4)\n",
        "print(mse4)"
      ],
      "metadata": {
        "colab": {
          "base_uri": "https://localhost:8080/"
        },
        "id": "ekuDtij04WZg",
        "outputId": "bf05773c-5d76-4282-cc84-72dc8761d46f"
      },
      "execution_count": null,
      "outputs": [
        {
          "output_type": "stream",
          "name": "stdout",
          "text": [
            "0.002864085797932802\n",
            "0.17925176007512164\n",
            "0.18520974613185004\n",
            "0.46088610448234507\n"
          ]
        }
      ]
    },
    {
      "cell_type": "code",
      "source": [
        "print(scaler.inverse_transform(np.array(pred).reshape(-1,1)))\n",
        "print(scaler.inverse_transform(np.array(y_test).reshape(-1,1)))\n",
        "print(data_total_scaled[len(data_total_scaled)-1],y_test)\n",
        "print(pred)"
      ],
      "metadata": {
        "colab": {
          "base_uri": "https://localhost:8080/"
        },
        "id": "oLx5eNgdBmAl",
        "outputId": "0d5c39ab-dbb2-416d-bb03-1580468c4157"
      },
      "execution_count": null,
      "outputs": [
        {
          "output_type": "stream",
          "name": "stdout",
          "text": [
            "[[325870.1325824]]\n",
            "[[310048.]]\n",
            "[1.] [1.]\n",
            "[1.05351715]\n"
          ]
        }
      ]
    },
    {
      "cell_type": "code",
      "source": [
        "new_data = [x[0] for x in data_total_scaled[len(data_total_scaled)-3:]]\n",
        "print(new_data)\n",
        "new = [new_data]\n",
        "pred2 = model.predict(new)\n",
        "print(pred2)\n",
        "print(scaler.inverse_transform(np.array(y_test).reshape(-1,1)))\n",
        "print(scaler.inverse_transform(np.array(pred2).reshape(-1,1)))"
      ],
      "metadata": {
        "colab": {
          "base_uri": "https://localhost:8080/"
        },
        "id": "Fay6vFpvOSk-",
        "outputId": "08cdc36d-29eb-4a15-ef3a-9070d07bd4de"
      },
      "execution_count": null,
      "outputs": [
        {
          "output_type": "stream",
          "name": "stdout",
          "text": [
            "[0.7674651441250685, 0.9951022506646463, 1.0]\n",
            "[1.04109197]\n",
            "[[310048.]]\n",
            "[[322196.67737369]]\n"
          ]
        }
      ]
    },
    {
      "cell_type": "markdown",
      "source": [
        "# Creating our Prediction Class\n",
        "This is just to organize my code efficiently and use the various functions i can create within this class easily across our code."
      ],
      "metadata": {
        "id": "PlbRKyedkKCz"
      }
    },
    {
      "cell_type": "markdown",
      "source": [
        "*New array which we can now trust for all our predictions*"
      ],
      "metadata": {
        "id": "1W2Ud9DQnVms"
      }
    },
    {
      "cell_type": "code",
      "source": [
        "x_pred_data = data_total_scaled\n",
        "xpdlen = len(x_pred_data)"
      ],
      "metadata": {
        "id": "h9bgqv0hOvty"
      },
      "execution_count": null,
      "outputs": []
    },
    {
      "cell_type": "code",
      "source": [
        "class TeslaPredictor:\n",
        "  def __init__(self,data,datalen,model,num,scaler):\n",
        "    self.model = model\n",
        "    self.scaler = scaler\n",
        "    self.num = num\n",
        "    self.dataset = data\n",
        "    self.datasetlen = datalen\n",
        "    self.x_pred = None\n",
        "    self.prediction = None\n",
        "    self.pred_value = None\n",
        "    self.universal = self.dataset #Includes Real world scaled values from Total Q + Our Predicted scaled values by our model\n",
        "    self.universallen = len(self.universal)\n",
        "    self.all_transformed = [] #Transorming universal array scaled values to actual deliveries (including our predicted deliveries)\n",
        "    self.yearly = {\"Year\":[],\"Deliveries\":[],\"Savings\":[],\"Status\":[]}\n",
        "    self.quaterly = {\"Year\":[],\"Deliveries\":[],\"Status\":[]}\n",
        "\n",
        "  def GetLastThree(self):\n",
        "    self.x_pred = [[x[0] for x in self.universal[int(self.universallen)-3:]]]\n",
        "    return self.x_pred\n",
        "    \n",
        "  def Prediction(self):\n",
        "    for i in range(self.num):\n",
        "      self.x_pred = self.GetLastThree()\n",
        "      self.prediction = self.model.predict(self.x_pred)\n",
        "      #Update our Universal array & its len with our predictions\n",
        "      self.universal = np.append(self.universal,np.array(self.prediction).reshape(-1,1),axis=0)\n",
        "      self.universallen = len(self.universal)\n",
        "  \n",
        "  def getdeliveries(self):\n",
        "    for i in range(self.universallen):\n",
        "      self.all_transformed = np.append(self.all_transformed,int(self.scaler.inverse_transform(np.array(self.universal[i]).reshape(-1,1))))\n",
        "\n",
        "  def getyearly(self):\n",
        "    n =4\n",
        "    self.arr = self.all_transformed[3:]\n",
        "    startyear = 2017\n",
        "\n",
        "    for i in range(0,len(self.arr),n):\n",
        "       self.yearly[\"Year\"].append(f\"{startyear}\")\n",
        "       self.yearly[\"Deliveries\"].append(sum(self.arr[i:i+n].tolist()))\n",
        "       self.yearly[\"Savings\"].append(sum(self.arr[:i+n].tolist())*3)\n",
        "\n",
        "       if i < self.datasetlen:\n",
        "         self.yearly[\"Status\"].append(\"Reported\")\n",
        "       else:\n",
        "          self.yearly[\"Status\"].append(\"Predicted\")\n",
        "\n",
        "       startyear +=1\n",
        "\n",
        "  def getquaterly(self):\n",
        "    n = 1\n",
        "    self.arr = self.all_transformed[len(self.all_transformed)-4:]\n",
        "    for i in range(0,len(self.arr),n):\n",
        "      self.quaterly[\"Year\"].append(f\"2022-Q{i +1}\")\n",
        "      self.quaterly[\"Deliveries\"].append(sum(self.arr[i:i+n].tolist()))\n",
        "      self.quaterly[\"Status\"].append(\"Predicted\")\n",
        "\n",
        "\n",
        "\n",
        "\n",
        "  \n",
        "  def Report(self):\n",
        "    print(\"All Delv + Pred delv from Q2 2016 \\n\",self.all_transformed)\n",
        "    print(self.yearly)\n"
      ],
      "metadata": {
        "id": "je8MVvpLnTHW"
      },
      "execution_count": 51,
      "outputs": []
    },
    {
      "cell_type": "code",
      "source": [
        "years = 9\n",
        "q = (4 * years) - 1\n",
        "tp = TeslaPredictor(x_pred_data,xpdlen,model,q,scaler)\n",
        "tp.Prediction()\n",
        "tp.getdeliveries()\n",
        "tp.getyearly()\n",
        "tp.Report()"
      ],
      "metadata": {
        "colab": {
          "base_uri": "https://localhost:8080/"
        },
        "id": "rdI-jVkwo_hC",
        "outputId": "9713f304-527c-4c08-bb3c-7b3b1cfb6b7a"
      },
      "execution_count": null,
      "outputs": [
        {
          "output_type": "stream",
          "name": "stdout",
          "text": [
            "All Delv + Pred delv from Q2 2016 \n",
            " [  14402.   24821.   22200.   25051.   22020.   26150.   29870.   29980.\n",
            "   40740.   83500.   90700.   63000.   95355.   97186.  112095.   88496.\n",
            "   90891.  139593.  180667.  184877.  201304.  241300.  308600.  310048.\n",
            "  322196.  367577.  409430.  440666.  479179.  527214.  576798.  628023.\n",
            "  685090.  748196.  816019.  889255.  969200. 1056235. 1150606. 1253070.\n",
            " 1364485. 1485555. 1617049. 1759905. 1915133. 2083782. 2267004. 2466066.\n",
            " 2682344. 2917320. 3172609. 3449971. 3751314. 4078711. 4434413. 4820869.\n",
            " 5240737. 5696906. 6192515.]\n",
            "{'Year': ['2017', '2018', '2019', '2020', '2021', '2022', '2023', '2024', '2025', '2026', '2027', '2028', '2029', '2030'], 'Deliveries': [103091.0, 244920.0, 367636.0, 499647.0, 936081.0, 1409251.0, 2023857.0, 2877328.0, 4065296.0, 5720159.0, 8025824.0, 11238339.0, 15714409.0, 21951027.0], 'Savings': [309273.0, 1044033.0, 2146941.0, 3645882.0, 6454125.0, 10681878.0, 16753449.0, 25385433.0, 37581321.0, 54741798.0, 78819270.0, 112534287.0, 159677514.0, 225530595.0], 'Status': ['Reported', 'Reported', 'Reported', 'Reported', 'Reported', 'Reported', 'Predicted', 'Predicted', 'Predicted', 'Predicted', 'Predicted', 'Predicted', 'Predicted', 'Predicted']}\n"
          ]
        }
      ]
    },
    {
      "cell_type": "code",
      "source": [
        "finaldata = pd.DataFrame(tp.yearly)\n",
        "finaldata.head(20)\n",
        "finaldata.to_csv(\"TeslaCO2MLReport.csv\")"
      ],
      "metadata": {
        "id": "wKceT_XTU6Sm"
      },
      "execution_count": null,
      "outputs": []
    },
    {
      "cell_type": "code",
      "source": [
        "finaldata.head(20)"
      ],
      "metadata": {
        "colab": {
          "base_uri": "https://localhost:8080/",
          "height": 488
        },
        "id": "D-uRa3xZZyOY",
        "outputId": "5bfcb1ff-bec0-4b37-e3b8-63022348a37b"
      },
      "execution_count": null,
      "outputs": [
        {
          "output_type": "execute_result",
          "data": {
            "text/plain": [
              "    Year  Deliveries      Savings     Status\n",
              "0   2017    103091.0     309273.0   Reported\n",
              "1   2018    244920.0    1044033.0   Reported\n",
              "2   2019    367636.0    2146941.0   Reported\n",
              "3   2020    499647.0    3645882.0   Reported\n",
              "4   2021    936081.0    6454125.0   Reported\n",
              "5   2022   1409251.0   10681878.0   Reported\n",
              "6   2023   2023857.0   16753449.0  Predicted\n",
              "7   2024   2877328.0   25385433.0  Predicted\n",
              "8   2025   4065296.0   37581321.0  Predicted\n",
              "9   2026   5720159.0   54741798.0  Predicted\n",
              "10  2027   8025824.0   78819270.0  Predicted\n",
              "11  2028  11238339.0  112534287.0  Predicted\n",
              "12  2029  15714409.0  159677514.0  Predicted\n",
              "13  2030  21951027.0  225530595.0  Predicted"
            ],
            "text/html": [
              "\n",
              "  <div id=\"df-ac4ccdd9-45fc-418f-98c2-82f9fd1207a2\">\n",
              "    <div class=\"colab-df-container\">\n",
              "      <div>\n",
              "<style scoped>\n",
              "    .dataframe tbody tr th:only-of-type {\n",
              "        vertical-align: middle;\n",
              "    }\n",
              "\n",
              "    .dataframe tbody tr th {\n",
              "        vertical-align: top;\n",
              "    }\n",
              "\n",
              "    .dataframe thead th {\n",
              "        text-align: right;\n",
              "    }\n",
              "</style>\n",
              "<table border=\"1\" class=\"dataframe\">\n",
              "  <thead>\n",
              "    <tr style=\"text-align: right;\">\n",
              "      <th></th>\n",
              "      <th>Year</th>\n",
              "      <th>Deliveries</th>\n",
              "      <th>Savings</th>\n",
              "      <th>Status</th>\n",
              "    </tr>\n",
              "  </thead>\n",
              "  <tbody>\n",
              "    <tr>\n",
              "      <th>0</th>\n",
              "      <td>2017</td>\n",
              "      <td>103091.0</td>\n",
              "      <td>309273.0</td>\n",
              "      <td>Reported</td>\n",
              "    </tr>\n",
              "    <tr>\n",
              "      <th>1</th>\n",
              "      <td>2018</td>\n",
              "      <td>244920.0</td>\n",
              "      <td>1044033.0</td>\n",
              "      <td>Reported</td>\n",
              "    </tr>\n",
              "    <tr>\n",
              "      <th>2</th>\n",
              "      <td>2019</td>\n",
              "      <td>367636.0</td>\n",
              "      <td>2146941.0</td>\n",
              "      <td>Reported</td>\n",
              "    </tr>\n",
              "    <tr>\n",
              "      <th>3</th>\n",
              "      <td>2020</td>\n",
              "      <td>499647.0</td>\n",
              "      <td>3645882.0</td>\n",
              "      <td>Reported</td>\n",
              "    </tr>\n",
              "    <tr>\n",
              "      <th>4</th>\n",
              "      <td>2021</td>\n",
              "      <td>936081.0</td>\n",
              "      <td>6454125.0</td>\n",
              "      <td>Reported</td>\n",
              "    </tr>\n",
              "    <tr>\n",
              "      <th>5</th>\n",
              "      <td>2022</td>\n",
              "      <td>1409251.0</td>\n",
              "      <td>10681878.0</td>\n",
              "      <td>Reported</td>\n",
              "    </tr>\n",
              "    <tr>\n",
              "      <th>6</th>\n",
              "      <td>2023</td>\n",
              "      <td>2023857.0</td>\n",
              "      <td>16753449.0</td>\n",
              "      <td>Predicted</td>\n",
              "    </tr>\n",
              "    <tr>\n",
              "      <th>7</th>\n",
              "      <td>2024</td>\n",
              "      <td>2877328.0</td>\n",
              "      <td>25385433.0</td>\n",
              "      <td>Predicted</td>\n",
              "    </tr>\n",
              "    <tr>\n",
              "      <th>8</th>\n",
              "      <td>2025</td>\n",
              "      <td>4065296.0</td>\n",
              "      <td>37581321.0</td>\n",
              "      <td>Predicted</td>\n",
              "    </tr>\n",
              "    <tr>\n",
              "      <th>9</th>\n",
              "      <td>2026</td>\n",
              "      <td>5720159.0</td>\n",
              "      <td>54741798.0</td>\n",
              "      <td>Predicted</td>\n",
              "    </tr>\n",
              "    <tr>\n",
              "      <th>10</th>\n",
              "      <td>2027</td>\n",
              "      <td>8025824.0</td>\n",
              "      <td>78819270.0</td>\n",
              "      <td>Predicted</td>\n",
              "    </tr>\n",
              "    <tr>\n",
              "      <th>11</th>\n",
              "      <td>2028</td>\n",
              "      <td>11238339.0</td>\n",
              "      <td>112534287.0</td>\n",
              "      <td>Predicted</td>\n",
              "    </tr>\n",
              "    <tr>\n",
              "      <th>12</th>\n",
              "      <td>2029</td>\n",
              "      <td>15714409.0</td>\n",
              "      <td>159677514.0</td>\n",
              "      <td>Predicted</td>\n",
              "    </tr>\n",
              "    <tr>\n",
              "      <th>13</th>\n",
              "      <td>2030</td>\n",
              "      <td>21951027.0</td>\n",
              "      <td>225530595.0</td>\n",
              "      <td>Predicted</td>\n",
              "    </tr>\n",
              "  </tbody>\n",
              "</table>\n",
              "</div>\n",
              "      <button class=\"colab-df-convert\" onclick=\"convertToInteractive('df-ac4ccdd9-45fc-418f-98c2-82f9fd1207a2')\"\n",
              "              title=\"Convert this dataframe to an interactive table.\"\n",
              "              style=\"display:none;\">\n",
              "        \n",
              "  <svg xmlns=\"http://www.w3.org/2000/svg\" height=\"24px\"viewBox=\"0 0 24 24\"\n",
              "       width=\"24px\">\n",
              "    <path d=\"M0 0h24v24H0V0z\" fill=\"none\"/>\n",
              "    <path d=\"M18.56 5.44l.94 2.06.94-2.06 2.06-.94-2.06-.94-.94-2.06-.94 2.06-2.06.94zm-11 1L8.5 8.5l.94-2.06 2.06-.94-2.06-.94L8.5 2.5l-.94 2.06-2.06.94zm10 10l.94 2.06.94-2.06 2.06-.94-2.06-.94-.94-2.06-.94 2.06-2.06.94z\"/><path d=\"M17.41 7.96l-1.37-1.37c-.4-.4-.92-.59-1.43-.59-.52 0-1.04.2-1.43.59L10.3 9.45l-7.72 7.72c-.78.78-.78 2.05 0 2.83L4 21.41c.39.39.9.59 1.41.59.51 0 1.02-.2 1.41-.59l7.78-7.78 2.81-2.81c.8-.78.8-2.07 0-2.86zM5.41 20L4 18.59l7.72-7.72 1.47 1.35L5.41 20z\"/>\n",
              "  </svg>\n",
              "      </button>\n",
              "      \n",
              "  <style>\n",
              "    .colab-df-container {\n",
              "      display:flex;\n",
              "      flex-wrap:wrap;\n",
              "      gap: 12px;\n",
              "    }\n",
              "\n",
              "    .colab-df-convert {\n",
              "      background-color: #E8F0FE;\n",
              "      border: none;\n",
              "      border-radius: 50%;\n",
              "      cursor: pointer;\n",
              "      display: none;\n",
              "      fill: #1967D2;\n",
              "      height: 32px;\n",
              "      padding: 0 0 0 0;\n",
              "      width: 32px;\n",
              "    }\n",
              "\n",
              "    .colab-df-convert:hover {\n",
              "      background-color: #E2EBFA;\n",
              "      box-shadow: 0px 1px 2px rgba(60, 64, 67, 0.3), 0px 1px 3px 1px rgba(60, 64, 67, 0.15);\n",
              "      fill: #174EA6;\n",
              "    }\n",
              "\n",
              "    [theme=dark] .colab-df-convert {\n",
              "      background-color: #3B4455;\n",
              "      fill: #D2E3FC;\n",
              "    }\n",
              "\n",
              "    [theme=dark] .colab-df-convert:hover {\n",
              "      background-color: #434B5C;\n",
              "      box-shadow: 0px 1px 3px 1px rgba(0, 0, 0, 0.15);\n",
              "      filter: drop-shadow(0px 1px 2px rgba(0, 0, 0, 0.3));\n",
              "      fill: #FFFFFF;\n",
              "    }\n",
              "  </style>\n",
              "\n",
              "      <script>\n",
              "        const buttonEl =\n",
              "          document.querySelector('#df-ac4ccdd9-45fc-418f-98c2-82f9fd1207a2 button.colab-df-convert');\n",
              "        buttonEl.style.display =\n",
              "          google.colab.kernel.accessAllowed ? 'block' : 'none';\n",
              "\n",
              "        async function convertToInteractive(key) {\n",
              "          const element = document.querySelector('#df-ac4ccdd9-45fc-418f-98c2-82f9fd1207a2');\n",
              "          const dataTable =\n",
              "            await google.colab.kernel.invokeFunction('convertToInteractive',\n",
              "                                                     [key], {});\n",
              "          if (!dataTable) return;\n",
              "\n",
              "          const docLinkHtml = 'Like what you see? Visit the ' +\n",
              "            '<a target=\"_blank\" href=https://colab.research.google.com/notebooks/data_table.ipynb>data table notebook</a>'\n",
              "            + ' to learn more about interactive tables.';\n",
              "          element.innerHTML = '';\n",
              "          dataTable['output_type'] = 'display_data';\n",
              "          await google.colab.output.renderOutput(dataTable, element);\n",
              "          const docLink = document.createElement('div');\n",
              "          docLink.innerHTML = docLinkHtml;\n",
              "          element.appendChild(docLink);\n",
              "        }\n",
              "      </script>\n",
              "    </div>\n",
              "  </div>\n",
              "  "
            ]
          },
          "metadata": {},
          "execution_count": 22
        }
      ]
    },
    {
      "cell_type": "code",
      "source": [
        "years2 = 1\n",
        "q2 = (4 * years2) - 1\n",
        "tp2 = TeslaPredictor(x_pred_data,xpdlen,model,q2,scaler)\n",
        "tp2.Prediction()\n",
        "tp2.getdeliveries()\n",
        "tp2.getyearly()\n",
        "tp2.getquaterly()\n",
        "tp2.Report()\n",
        "print(tp2.quaterly)"
      ],
      "metadata": {
        "colab": {
          "base_uri": "https://localhost:8080/"
        },
        "id": "eS08XSgxbgV4",
        "outputId": "64cc7a91-c907-4f8b-f2a1-0b78751467f2"
      },
      "execution_count": 52,
      "outputs": [
        {
          "output_type": "stream",
          "name": "stdout",
          "text": [
            "All Delv + Pred delv from Q2 2016 \n",
            " [ 14402.  24821.  22200.  25051.  22020.  26150.  29870.  29980.  40740.\n",
            "  83500.  90700.  63000.  95355.  97186. 112095.  88496.  90891. 139593.\n",
            " 180667. 184877. 201304. 241300. 308600. 310048. 322196. 367577. 409430.]\n",
            "{'Year': ['2017', '2018', '2019', '2020', '2021', '2022'], 'Deliveries': [103091.0, 244920.0, 367636.0, 499647.0, 936081.0, 1409251.0], 'Savings': [309273.0, 1044033.0, 2146941.0, 3645882.0, 6454125.0, 10681878.0], 'Status': ['Reported', 'Reported', 'Reported', 'Reported', 'Reported', 'Reported']}\n",
            "{'Year': ['2022-Q1', '2022-Q2', '2022-Q3', '2022-Q4'], 'Deliveries': [310048.0, 322196.0, 367577.0, 409430.0], 'Status': ['Predicted', 'Predicted', 'Predicted', 'Predicted']}\n"
          ]
        }
      ]
    },
    {
      "cell_type": "code",
      "source": [
        "finaldata3 = pd.DataFrame(tp2.quaterly)\n",
        "finaldata3[\"Status\"][0] = \"Reported\"\n",
        "finaldata3.to_csv(\"TeslaCO2MLReport2.csv\")"
      ],
      "metadata": {
        "id": "-V-CGSelbpYa",
        "colab": {
          "base_uri": "https://localhost:8080/"
        },
        "outputId": "866f564b-6f5e-483c-a981-99e43fa1b5a9"
      },
      "execution_count": 53,
      "outputs": [
        {
          "output_type": "stream",
          "name": "stderr",
          "text": [
            "/usr/local/lib/python3.7/dist-packages/ipykernel_launcher.py:2: SettingWithCopyWarning: \n",
            "A value is trying to be set on a copy of a slice from a DataFrame\n",
            "\n",
            "See the caveats in the documentation: https://pandas.pydata.org/pandas-docs/stable/user_guide/indexing.html#returning-a-view-versus-a-copy\n",
            "  \n"
          ]
        }
      ]
    },
    {
      "cell_type": "code",
      "source": [
        "finaldata3.head(20)"
      ],
      "metadata": {
        "colab": {
          "base_uri": "https://localhost:8080/",
          "height": 174
        },
        "id": "J7Mt60hvb9Z3",
        "outputId": "f51b8d79-4c67-4458-f904-ccff933602ca"
      },
      "execution_count": null,
      "outputs": [
        {
          "output_type": "execute_result",
          "data": {
            "text/plain": [
              "   Year  Deliveries     Status\n",
              "0  2022    310048.0   Reported\n",
              "1  2022    322196.0  Predicted\n",
              "2  2022    367577.0  Predicted\n",
              "3  2022    409430.0  Predicted"
            ],
            "text/html": [
              "\n",
              "  <div id=\"df-ad42bd8d-94ac-4d5a-baf1-29fc1955c46b\">\n",
              "    <div class=\"colab-df-container\">\n",
              "      <div>\n",
              "<style scoped>\n",
              "    .dataframe tbody tr th:only-of-type {\n",
              "        vertical-align: middle;\n",
              "    }\n",
              "\n",
              "    .dataframe tbody tr th {\n",
              "        vertical-align: top;\n",
              "    }\n",
              "\n",
              "    .dataframe thead th {\n",
              "        text-align: right;\n",
              "    }\n",
              "</style>\n",
              "<table border=\"1\" class=\"dataframe\">\n",
              "  <thead>\n",
              "    <tr style=\"text-align: right;\">\n",
              "      <th></th>\n",
              "      <th>Year</th>\n",
              "      <th>Deliveries</th>\n",
              "      <th>Status</th>\n",
              "    </tr>\n",
              "  </thead>\n",
              "  <tbody>\n",
              "    <tr>\n",
              "      <th>0</th>\n",
              "      <td>2022</td>\n",
              "      <td>310048.0</td>\n",
              "      <td>Reported</td>\n",
              "    </tr>\n",
              "    <tr>\n",
              "      <th>1</th>\n",
              "      <td>2022</td>\n",
              "      <td>322196.0</td>\n",
              "      <td>Predicted</td>\n",
              "    </tr>\n",
              "    <tr>\n",
              "      <th>2</th>\n",
              "      <td>2022</td>\n",
              "      <td>367577.0</td>\n",
              "      <td>Predicted</td>\n",
              "    </tr>\n",
              "    <tr>\n",
              "      <th>3</th>\n",
              "      <td>2022</td>\n",
              "      <td>409430.0</td>\n",
              "      <td>Predicted</td>\n",
              "    </tr>\n",
              "  </tbody>\n",
              "</table>\n",
              "</div>\n",
              "      <button class=\"colab-df-convert\" onclick=\"convertToInteractive('df-ad42bd8d-94ac-4d5a-baf1-29fc1955c46b')\"\n",
              "              title=\"Convert this dataframe to an interactive table.\"\n",
              "              style=\"display:none;\">\n",
              "        \n",
              "  <svg xmlns=\"http://www.w3.org/2000/svg\" height=\"24px\"viewBox=\"0 0 24 24\"\n",
              "       width=\"24px\">\n",
              "    <path d=\"M0 0h24v24H0V0z\" fill=\"none\"/>\n",
              "    <path d=\"M18.56 5.44l.94 2.06.94-2.06 2.06-.94-2.06-.94-.94-2.06-.94 2.06-2.06.94zm-11 1L8.5 8.5l.94-2.06 2.06-.94-2.06-.94L8.5 2.5l-.94 2.06-2.06.94zm10 10l.94 2.06.94-2.06 2.06-.94-2.06-.94-.94-2.06-.94 2.06-2.06.94z\"/><path d=\"M17.41 7.96l-1.37-1.37c-.4-.4-.92-.59-1.43-.59-.52 0-1.04.2-1.43.59L10.3 9.45l-7.72 7.72c-.78.78-.78 2.05 0 2.83L4 21.41c.39.39.9.59 1.41.59.51 0 1.02-.2 1.41-.59l7.78-7.78 2.81-2.81c.8-.78.8-2.07 0-2.86zM5.41 20L4 18.59l7.72-7.72 1.47 1.35L5.41 20z\"/>\n",
              "  </svg>\n",
              "      </button>\n",
              "      \n",
              "  <style>\n",
              "    .colab-df-container {\n",
              "      display:flex;\n",
              "      flex-wrap:wrap;\n",
              "      gap: 12px;\n",
              "    }\n",
              "\n",
              "    .colab-df-convert {\n",
              "      background-color: #E8F0FE;\n",
              "      border: none;\n",
              "      border-radius: 50%;\n",
              "      cursor: pointer;\n",
              "      display: none;\n",
              "      fill: #1967D2;\n",
              "      height: 32px;\n",
              "      padding: 0 0 0 0;\n",
              "      width: 32px;\n",
              "    }\n",
              "\n",
              "    .colab-df-convert:hover {\n",
              "      background-color: #E2EBFA;\n",
              "      box-shadow: 0px 1px 2px rgba(60, 64, 67, 0.3), 0px 1px 3px 1px rgba(60, 64, 67, 0.15);\n",
              "      fill: #174EA6;\n",
              "    }\n",
              "\n",
              "    [theme=dark] .colab-df-convert {\n",
              "      background-color: #3B4455;\n",
              "      fill: #D2E3FC;\n",
              "    }\n",
              "\n",
              "    [theme=dark] .colab-df-convert:hover {\n",
              "      background-color: #434B5C;\n",
              "      box-shadow: 0px 1px 3px 1px rgba(0, 0, 0, 0.15);\n",
              "      filter: drop-shadow(0px 1px 2px rgba(0, 0, 0, 0.3));\n",
              "      fill: #FFFFFF;\n",
              "    }\n",
              "  </style>\n",
              "\n",
              "      <script>\n",
              "        const buttonEl =\n",
              "          document.querySelector('#df-ad42bd8d-94ac-4d5a-baf1-29fc1955c46b button.colab-df-convert');\n",
              "        buttonEl.style.display =\n",
              "          google.colab.kernel.accessAllowed ? 'block' : 'none';\n",
              "\n",
              "        async function convertToInteractive(key) {\n",
              "          const element = document.querySelector('#df-ad42bd8d-94ac-4d5a-baf1-29fc1955c46b');\n",
              "          const dataTable =\n",
              "            await google.colab.kernel.invokeFunction('convertToInteractive',\n",
              "                                                     [key], {});\n",
              "          if (!dataTable) return;\n",
              "\n",
              "          const docLinkHtml = 'Like what you see? Visit the ' +\n",
              "            '<a target=\"_blank\" href=https://colab.research.google.com/notebooks/data_table.ipynb>data table notebook</a>'\n",
              "            + ' to learn more about interactive tables.';\n",
              "          element.innerHTML = '';\n",
              "          dataTable['output_type'] = 'display_data';\n",
              "          await google.colab.output.renderOutput(dataTable, element);\n",
              "          const docLink = document.createElement('div');\n",
              "          docLink.innerHTML = docLinkHtml;\n",
              "          element.appendChild(docLink);\n",
              "        }\n",
              "      </script>\n",
              "    </div>\n",
              "  </div>\n",
              "  "
            ]
          },
          "metadata": {},
          "execution_count": 50
        }
      ]
    },
    {
      "cell_type": "code",
      "source": [
        ""
      ],
      "metadata": {
        "id": "sHRhHIbry2wU"
      },
      "execution_count": null,
      "outputs": []
    }
  ]
}